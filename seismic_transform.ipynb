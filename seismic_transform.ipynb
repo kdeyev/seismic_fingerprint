{
 "cells": [
  {
   "cell_type": "code",
   "execution_count": 47,
   "metadata": {
    "collapsed": false
   },
   "outputs": [],
   "source": [
    "import seismic_dataset_builder  \n",
    "(X_train, y_train, v_train), (X_test, y_test, v_test), values, labels = seismic_dataset_builder.create_dataset()\n",
    "\n",
    "X_train = X_train[0] / 255 # Normalise data to [0, 1] range\n",
    "X_test = X_test[0] / 255 # Normalise data to [0, 1] range\n",
    "\n",
    "\n",
    "import numpy as np\n",
    "\n",
    "def fk (data):\n",
    "\t#data = data*np.blackman(len(data[0]))\n",
    "\t#data = data.T\n",
    "\tfreq = np.fft.fft2(data)\n",
    "\tfreq = np.fft.fftshift(freq)\n",
    "\tfreq = freq[int(len(freq)/2):,:]\n",
    "\n",
    "\t#print (np.fft.rfftfreq(freq.shape[0], self.dt_synt))\n",
    "\t#print (np.fft.fftfreq(freq.shape[1], self.dx_synt))\n",
    "\n",
    "\tfreq = np.abs(freq)\n",
    "\n",
    "\tfreq = 20 * np.log10(freq)\n",
    "\tfreq = freq - np.amax(freq)\n",
    "\tfreq = np.nan_to_num(freq)\n",
    "\tfreq[freq == -np.inf] = 0\n",
    "\treturn freq\n",
    "\n",
    "#def fft1d(matrix):\n",
    "#    return [np.abs(np.fft.fft(c)) for c in matrix]\n",
    "\n",
    "#def fft2d(matrix):\n",
    "#    return np.abs(np.fft.fft2(matrix))\n",
    "\n",
    "X_train = np.array([image.T[0].T for image in X_train])\n",
    "X_test = np.array([image.T[0].T for image in X_test]) \n",
    "\n",
    "Y_train = np.array([fk (image) for image in X_train])\n",
    "Y_test = np.array([fk (image) for image in X_test]) "
   ]
  },
  {
   "cell_type": "code",
   "execution_count": 48,
   "metadata": {
    "collapsed": false
   },
   "outputs": [
    {
     "data": {
      "text/plain": [
       "<matplotlib.image.AxesImage at 0x134abada0b8>"
      ]
     },
     "execution_count": 48,
     "metadata": {},
     "output_type": "execute_result"
    },
    {
     "data": {
      "image/png": "[encoded data removed]",
      "text/plain": [
       "<matplotlib.figure.Figure at 0x134abb8c2e8>"
      ]
     },
     "metadata": {},
     "output_type": "display_data"
    },
    {
     "data": {
      "image/png": "[encoded data removed]",
      "text/plain": [
       "<matplotlib.figure.Figure at 0x134a33fa7f0>"
      ]
     },
     "metadata": {},
     "output_type": "display_data"
    }
   ],
   "source": [
    "a = X_train[6]\n",
    "afk = fk (a)\n",
    "#afk = Y_train[8]\n",
    "\n",
    "#a = np.fft.rfft2(a).real\n",
    "#a = np.array(fft1d(a))\n",
    "\n",
    "#print (a.shape)\n",
    "\n",
    "import matplotlib.pyplot as plt    \n",
    "%matplotlib inline\n",
    "\n",
    "imparams = {\n",
    "\t#'interpolation': 'none',\n",
    "\t'cmap': \"gray\",\n",
    "\t'aspect': 'auto'\n",
    "\t}\n",
    "fig = plt.figure(figsize=(16, 4))\n",
    "plt.imshow(a, **imparams)\n",
    "\n",
    "fig = plt.figure(figsize=(16, 4))\n",
    "plt.imshow(afk, **imparams)\n"
   ]
  },
  {
   "cell_type": "code",
   "execution_count": 51,
   "metadata": {
    "collapsed": false
   },
   "outputs": [],
   "source": [
    "def mn (X_train, Y_train, X_test, Y_test):\n",
    "\tfrom keras.models import Model # basic class for specifying and training a neural network\n",
    "\tfrom keras.layers import Input, Dense # the two types of neural network layer we will be using\n",
    "\tfrom keras.utils import np_utils # utilities for one-hot encoding of ground truth values\n",
    "\timport numpy as np\n",
    "\n",
    "\tprint ('image has', X_train.shape[1]*X_train.shape[2], 'pixels')\n",
    "\t\n",
    "\tbatch_size = 128 # in each iteration, we consider 128 training examples at once\n",
    "\tnum_epochs = 10 # we iterate twenty times over the entire training set\n",
    "\thidden_size = 2048 # there will be 512 neurons in both hidden layers\n",
    "\n",
    "\tnum_train = X_train.shape[0] # there are 60000 training examples in MNIST\n",
    "\tnum_test = X_test.shape[0] # there are 10000 test examples in MNIST\n",
    "\n",
    "\tin_height = X_test[0].shape[0]\n",
    "\tin_width = X_test[0].shape[1]\n",
    "\n",
    "\tout_height = Y_test[0].shape[0]\n",
    "\tout_width = Y_test[0].shape[1]\n",
    "\n",
    "\tX_train = X_train.reshape(num_train, in_height * in_width) # Flatten data to 1D\n",
    "\tX_test = X_test.reshape(num_test, in_height * in_width) # Flatten data to 1D\n",
    "\n",
    "\tY_train = Y_train.reshape(num_train, out_height * out_width) # Flatten data to 1D\n",
    "\tY_test = Y_test.reshape(num_test, out_height * out_width) # Flatten data to 1D\n",
    "\n",
    "\tinp = Input(shape=(in_height * in_width,)) # Our input is a 1D vector of size 784\n",
    "    \n",
    "\thidden = Dense(hidden_size)(inp)\n",
    "\thidden = Dense(hidden_size, activation='relu')(hidden)\n",
    "\t#hidden = Dense(hidden_size)(hidden)\n",
    "\t#hidden = Dense(hidden_size, activation='relu')(hidden)\n",
    "\t#hidden = Dense(hidden_size, activation='relu')(hidden)\n",
    "    \n",
    "\tout = Dense(out_height * out_width)(hidden) # Output softmax layer\n",
    "\n",
    "\tmodel = Model(input=inp, output=out) # To define a model, just specify its input and output layers\n",
    "\n",
    "\tmodel.compile(loss='mean_squared_error', # using the cross-entropy loss function\n",
    "\t\t\t\t  optimizer='adam', # using the Adam optimiser\n",
    "\t\t\t\t  metrics=['accuracy']) # reporting the accuracy\n",
    "\n",
    "\tmodel.fit(X_train, Y_train, # Train the model using the training set...\n",
    "\t\t\t  batch_size=batch_size, nb_epoch=num_epochs,\n",
    "\t\t\t  verbose=1, validation_split=0.1) # ...holding out 10% of the data for validation\n",
    "\tprint(model.evaluate(X_test, Y_test, verbose=1)) # Evaluate the trained model on the test set!\n",
    "    \n",
    "\treturn model"
   ]
  },
  {
   "cell_type": "code",
   "execution_count": 52,
   "metadata": {
    "collapsed": false
   },
   "outputs": [
    {
     "name": "stdout",
     "output_type": "stream",
     "text": [
      "76296 19194\n",
      "(76296, 37, 20)\n",
      "(76296, 19, 20)\n",
      "image has 740 pixels\n"
     ]
    },
    {
     "name": "stderr",
     "output_type": "stream",
     "text": [
      "C:\\Users\\kostyad\\AppData\\Local\\Continuum\\Anaconda3\\lib\\site-packages\\ipykernel\\__main__.py:38: UserWarning: Update your `Model` call to the Keras 2 API: `Model(outputs=Tensor(\"de..., inputs=Tensor(\"in...)`\n",
      "C:\\Users\\kostyad\\AppData\\Local\\Continuum\\Anaconda3\\lib\\site-packages\\ipykernel\\__main__.py:46: UserWarning: The `nb_epoch` argument in `fit` has been renamed `epochs`.\n"
     ]
    },
    {
     "name": "stdout",
     "output_type": "stream",
     "text": [
      "Train on 68666 samples, validate on 7630 samples\n",
      "Epoch 1/10\n",
      "68666/68666 [==============================] - 140s - loss: 103.4801 - acc: 0.9961 - val_loss: 67.9887 - val_acc: 1.0000\n",
      "Epoch 2/10\n",
      "68666/68666 [==============================] - 140s - loss: 72.7147 - acc: 1.0000 - val_loss: 98.6954 - val_acc: 1.0000\n",
      "Epoch 3/10\n",
      "68666/68666 [==============================] - 140s - loss: 65.5065 - acc: 1.0000 - val_loss: 53.3258 - val_acc: 1.0000\n",
      "Epoch 4/10\n",
      "68666/68666 [==============================] - 139s - loss: 59.9449 - acc: 0.9999 - val_loss: 51.7120 - val_acc: 0.9990\n",
      "Epoch 5/10\n",
      "68666/68666 [==============================] - 137s - loss: 58.8014 - acc: 0.9996 - val_loss: 49.9457 - val_acc: 0.9997\n",
      "Epoch 6/10\n",
      "68666/68666 [==============================] - 134s - loss: 56.0000 - acc: 0.9982 - val_loss: 52.4754 - val_acc: 0.9997\n",
      "Epoch 7/10\n",
      "68666/68666 [==============================] - 134s - loss: 55.0760 - acc: 0.9993 - val_loss: 48.7722 - val_acc: 0.9993\n",
      "Epoch 8/10\n",
      "68666/68666 [==============================] - 136s - loss: 54.1466 - acc: 0.9994 - val_loss: 47.7005 - val_acc: 0.9995\n",
      "Epoch 9/10\n",
      "68666/68666 [==============================] - 136s - loss: 52.7490 - acc: 0.9992 - val_loss: 46.9990 - val_acc: 0.9996\n",
      "Epoch 10/10\n",
      "68666/68666 [==============================] - 135s - loss: 50.8970 - acc: 0.9992 - val_loss: 51.5672 - val_acc: 0.9999\n",
      "19194/19194 [==============================] - 13s    \n",
      "[53.156046136488598, 0.99973950192768568]\n"
     ]
    }
   ],
   "source": [
    "print (len(X_train), len(X_test))\n",
    "\n",
    "print (X_train.shape)\n",
    "print (Y_train.shape)\n",
    "\n",
    "model = mn(X_train, Y_train, X_test, Y_test)"
   ]
  },
  {
   "cell_type": "code",
   "execution_count": 53,
   "metadata": {
    "collapsed": false
   },
   "outputs": [],
   "source": [
    "def mn_evaluate_random(model, X_test, Y_test):\n",
    "\timport numpy as np\n",
    "\t\t\n",
    "\trandidx = np.random.randint(0, len(X_test))\n",
    "\tx = X_test[randidx]\n",
    "\ty = Y_test[randidx]\n",
    "    \n",
    "\ty_height = y.shape[0]\n",
    "\ty_width = y.shape[1]\n",
    "\tx_height = x.shape[0]\n",
    "\tx_width = x.shape[1]\n",
    "\tprint (x_height, x_width, y_height, y_width)    \n",
    "\t\n",
    "\tfrom keras.preprocessing.image import ImageDataGenerator, array_to_img, img_to_array, load_img\n",
    "\n",
    "\timport matplotlib.pyplot as plt\n",
    "\tfig = plt.figure(figsize=(16, 4))\n",
    "    \n",
    "\tax = fig.add_subplot(131)\n",
    "\tvm = np.percentile(x, 99)\n",
    "\timparams = {\n",
    "\t\t#'interpolation': 'none',\n",
    "\t\t'cmap': \"gray\",\n",
    "\t\t'vmin': -vm,\n",
    "\t\t'vmax': vm,\n",
    "\t\t'aspect': 'auto'\n",
    "\t}\n",
    "\tplt.imshow(x, **imparams)\n",
    "\n",
    "\tax = fig.add_subplot(132)\n",
    "\tvm = np.percentile(y, 99)\n",
    "\timparams = {\n",
    "\t\t#'interpolation': 'none',\n",
    "\t\t'cmap': \"gray\",\n",
    "\t\t'vmax': vm,\n",
    "\t\t'aspect': 'auto'\n",
    "\t\t}\n",
    "\tplt.imshow(y)\n",
    "\n",
    "\tpredicted_y = model.predict(x.reshape(1, x_height * x_width))\n",
    "    \n",
    "\tpredicted_y = predicted_y.reshape(y_height, y_width)\n",
    "\n",
    "\tax = fig.add_subplot(133)\n",
    "\tvm = np.percentile(predicted_y, 80)\n",
    "\timparams = {\n",
    "\t\t#'interpolation': 'none',\n",
    "\t\t'cmap': \"gray\",\n",
    "\t\t'vmax': vm,\n",
    "\t\t'aspect': 'auto'\n",
    "\t\t}\n",
    "\tplt.imshow(predicted_y)\n",
    "\n",
    "\treturn randidx, x, y, predicted_y"
   ]
  },
  {
   "cell_type": "code",
   "execution_count": 80,
   "metadata": {
    "collapsed": false
   },
   "outputs": [
    {
     "name": "stdout",
     "output_type": "stream",
     "text": [
      "37 20 19 20\n"
     ]
    },
    {
     "data": {
      "image/png": "[encoded data removed]",
      "text/plain": [
       "<matplotlib.figure.Figure at 0x13489f330b8>"
      ]
     },
     "metadata": {},
     "output_type": "display_data"
    }
   ],
   "source": [
    "import matplotlib.pyplot as plt\n",
    "%matplotlib inline\n",
    "\n",
    "randidx, x, y, predicted_y = mn_evaluate_random(model, X_test, Y_test)\n",
    "#print (y)\n",
    "#print (predicted_y)"
   ]
  },
  {
   "cell_type": "code",
   "execution_count": null,
   "metadata": {
    "collapsed": true
   },
   "outputs": [],
   "source": []
  },
  {
   "cell_type": "code",
   "execution_count": null,
   "metadata": {
    "collapsed": true
   },
   "outputs": [],
   "source": []
  },
  {
   "cell_type": "code",
   "execution_count": null,
   "metadata": {
    "collapsed": true
   },
   "outputs": [],
   "source": []
  },
  {
   "cell_type": "code",
   "execution_count": null,
   "metadata": {
    "collapsed": true
   },
   "outputs": [],
   "source": []
  }
 ],
 "metadata": {
  "anaconda-cloud": {},
  "kernelspec": {
   "display_name": "Python [default]",
   "language": "python",
   "name": "python3"
  },
  "language_info": {
   "codemirror_mode": {
    "name": "ipython",
    "version": 3
   },
   "file_extension": ".py",
   "mimetype": "text/x-python",
   "name": "python",
   "nbconvert_exporter": "python",
   "pygments_lexer": "ipython3",
   "version": "3.5.2"
  }
 },
 "nbformat": 4,
 "nbformat_minor": 2
}
