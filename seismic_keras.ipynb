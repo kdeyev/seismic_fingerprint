{
 "cells": [
  {
   "cell_type": "markdown",
   "metadata": {},
   "source": [
    "TF"
   ]
  },
  {
   "cell_type": "code",
   "execution_count": 1,
   "metadata": {
    "collapsed": false
   },
   "outputs": [],
   "source": [
    "import seismic_ml_kernel"
   ]
  },
  {
   "cell_type": "code",
   "execution_count": null,
   "metadata": {
    "collapsed": true
   },
   "outputs": [],
   "source": []
  },
  {
   "cell_type": "code",
   "execution_count": 2,
   "metadata": {
    "collapsed": false
   },
   "outputs": [],
   "source": [
    "#train (train_data_dir, validation_data_dir, image_size)\n",
    "#test (validation_data_dir + 'noise/', image_size)"
   ]
  },
  {
   "cell_type": "code",
   "execution_count": null,
   "metadata": {
    "collapsed": false
   },
   "outputs": [],
   "source": []
  },
  {
   "cell_type": "code",
   "execution_count": 3,
   "metadata": {
    "collapsed": false
   },
   "outputs": [
    {
     "name": "stderr",
     "output_type": "stream",
     "text": [
      "Using TensorFlow backend.\n"
     ]
    }
   ],
   "source": [
    "from keras.datasets import mnist # subroutines for fetching the MNIST dataset\n",
    "(X_train, y_train), (X_test, y_test) = mnist.load_data() # fetch MNIST data\n",
    "\n",
    "#mn (X_train, y_train, X_test, y_test)"
   ]
  },
  {
   "cell_type": "code",
   "execution_count": 1,
   "metadata": {
    "collapsed": false
   },
   "outputs": [
    {
     "name": "stderr",
     "output_type": "stream",
     "text": [
      "Using TensorFlow backend.\n"
     ]
    }
   ],
   "source": [
    "from keras.datasets import cifar10 # subroutines for fetching the CIFAR-10 dataset\n",
    "(X_train, y_train), (X_test, y_test) = cifar10.load_data() # fetch CIFAR-10 data\n",
    "\n",
    "#ci (X_train, y_train, X_test, y_test)"
   ]
  },
  {
   "cell_type": "code",
   "execution_count": 1,
   "metadata": {
    "collapsed": true
   },
   "outputs": [],
   "source": [
    "def seis_dataset ():\n",
    "    import numpy as np\n",
    "    import seismic_handler\n",
    "    from keras.preprocessing.image import ImageDataGenerator, array_to_img, img_to_array, load_img\n",
    "    \n",
    "    noisers = [None, seismic_handler.FreqNoiser()]\n",
    "    #noisers = [None, \n",
    "    #           seismic_handler.BP(0.1, 0.15, 0.2, 0.25, 1), \n",
    "    #           seismic_handler.BP(0.2, 0.25, 0.3, 0.35, 1),\n",
    "    #           seismic_handler.BP(0.3, 0.35, 0.4, 0.45, 1),\n",
    "    #           seismic_handler.BP(0.4, 0.45, 0.5, 0.55, 1),\n",
    "    #          ]\n",
    "    \n",
    "    \n",
    "    images_dir = 'images/'\n",
    "\n",
    "    import os\n",
    "    if os.path.exists(images_dir):\n",
    "        import shutil\n",
    "        shutil.rmtree(images_dir)\n",
    "\n",
    "    if not os.path.exists(images_dir):\n",
    "        os.makedirs(images_dir)\n",
    "\n",
    "    train_data_dir = images_dir + 'train/'\n",
    "    validation_data_dir = images_dir + 'validation/'\n",
    "\n",
    "    if not os.path.exists(train_data_dir):\n",
    "        os.makedirs(train_data_dir)\n",
    "\n",
    "    if not os.path.exists(validation_data_dir):\n",
    "        os.makedirs(validation_data_dir)\n",
    "        \n",
    "    for i in range(len(noisers)):\n",
    "        a = train_data_dir + str(i)\n",
    "        if not os.path.exists(a):\n",
    "            os.makedirs(a)\n",
    "    \n",
    "        a = validation_data_dir + str(i)\n",
    "        if not os.path.exists(a):\n",
    "            os.makedirs(a)\n",
    "    \n",
    "    handlers = [seismic_handler.SeismicPrestack('data/prestack.sgy', noiser) for noiser in noisers]\n",
    "    gather_keys = [handler.getHeaderVals ('original_field_record_number') for handler in handlers]\n",
    "        \n",
    "    X_train = []\n",
    "    y_train = []\n",
    "    X_test = [] \n",
    "    y_test = []\n",
    "    \n",
    "    #counter = 0\n",
    "    nhandlers = len (handlers)\n",
    "           \n",
    "    for key in gather_keys[0]:\n",
    "        partss = [handler.readGatherParts (key, 50, 0.5) for handler in handlers]\n",
    "\n",
    "        sh = partss[0][0].shape\n",
    "        \n",
    "        for category in range(nhandlers):\n",
    "            nparts = len (partss[category])\n",
    "            for i in range(nparts):\n",
    "                \n",
    "                # just sparser of data\n",
    "                if category != i % nhandlers:\n",
    "                    continue\n",
    "\n",
    "                data = partss[category][i]\n",
    "                if data.shape != sh:\n",
    "                    throw ('wrong shapes')\n",
    "\n",
    "                image = seismic_handler.convert_to_image (data.T)\n",
    "                data = img_to_array (image)\n",
    "\n",
    "                if i < nparts*0.8:\n",
    "                    X_train.append(data)\n",
    "                    y_train.append (category)\n",
    "                    png_name = train_data_dir\n",
    "                else:\n",
    "                    X_test.append(data)\n",
    "                    y_test.append(category)   \n",
    "                    png_name = validation_data_dir\n",
    "\n",
    "                png_name += str (category) + '/'    \n",
    "                png_name += str(i) + '.png'\n",
    "                #image.save (png_name)\n",
    "\n",
    "                #counter = counter+1\n",
    "    \n",
    "    y_test = np.array(y_test)\n",
    "    y_train = np.array(y_train)\n",
    "    X_train = np.array(X_train)\n",
    "    X_test = np.array(X_test)\n",
    "    \n",
    "    \n",
    "    if len(X_train) != len(y_train):\n",
    "        print ('len(X_train) != len(y_train)')\n",
    "        return\n",
    "    if len(X_test) != len(y_test):\n",
    "        print ('len(X_test) != len(y_test)')\n",
    "        return\n",
    "\n",
    "    return (X_train, y_train), (X_test, y_test)"
   ]
  },
  {
   "cell_type": "code",
   "execution_count": null,
   "metadata": {
    "collapsed": false,
    "scrolled": true
   },
   "outputs": [
    {
     "name": "stderr",
     "output_type": "stream",
     "text": [
      "Using TensorFlow backend.\n",
      "C:\\Users\\kostyad\\Documents\\Jupyter\\seismic_fingerprint\\seismic_ml_kernel.py:80: UserWarning: Update your `Conv2D` call to the Keras 2 API: `Conv2D(32, (3, 3), padding=\"same\", activation=\"relu\")`\n",
      "  conv_1 = Convolution2D(conv_depth_1, kernel_size, kernel_size, border_mode='same', activation='relu')(hidden_2)\n",
      "C:\\Users\\kostyad\\Documents\\Jupyter\\seismic_fingerprint\\seismic_ml_kernel.py:81: UserWarning: Update your `Conv2D` call to the Keras 2 API: `Conv2D(32, (3, 3), padding=\"same\", activation=\"relu\")`\n",
      "  conv_2 = Convolution2D(conv_depth_1, kernel_size, kernel_size, border_mode='same', activation='relu')(conv_1)\n",
      "C:\\Users\\kostyad\\Documents\\Jupyter\\seismic_fingerprint\\seismic_ml_kernel.py:85: UserWarning: Update your `Conv2D` call to the Keras 2 API: `Conv2D(64, (3, 3), padding=\"same\", activation=\"relu\")`\n",
      "  conv_3 = Convolution2D(conv_depth_2, kernel_size, kernel_size, border_mode='same', activation='relu')(drop_1)\n",
      "C:\\Users\\kostyad\\Documents\\Jupyter\\seismic_fingerprint\\seismic_ml_kernel.py:86: UserWarning: Update your `Conv2D` call to the Keras 2 API: `Conv2D(64, (3, 3), padding=\"same\", activation=\"relu\")`\n",
      "  conv_4 = Convolution2D(conv_depth_2, kernel_size, kernel_size, border_mode='same', activation='relu')(conv_3)\n",
      "C:\\Users\\kostyad\\Documents\\Jupyter\\seismic_fingerprint\\seismic_ml_kernel.py:95: UserWarning: Update your `Model` call to the Keras 2 API: `Model(inputs=Tensor(\"in..., outputs=Tensor(\"de...)`\n",
      "  model = Model(input=inp, output=out) # To define a model, just specify its input and output layers\n",
      "C:\\Users\\kostyad\\Documents\\Jupyter\\seismic_fingerprint\\seismic_ml_kernel.py:103: UserWarning: The `nb_epoch` argument in `fit` has been renamed `epochs`.\n",
      "  verbose=1, validation_split=0.1) # ...holding out 10% of the data for validation\n"
     ]
    },
    {
     "name": "stdout",
     "output_type": "stream",
     "text": [
      "Train on 12048 samples, validate on 1339 samples\n",
      "Epoch 1/200\n",
      "  192/12048 [..............................] - ETA: 4725s - loss: 0.6970 - acc: 0.4792"
     ]
    }
   ],
   "source": [
    "import seismic_ml_kernel\n",
    "\n",
    "(X_train, y_train), (X_test, y_test) = seis_dataset ()\n",
    "\n",
    "seismic_ml_kernel.ci (X_train, y_train, X_test, y_test)"
   ]
  },
  {
   "cell_type": "code",
   "execution_count": null,
   "metadata": {
    "collapsed": true
   },
   "outputs": [],
   "source": []
  },
  {
   "cell_type": "code",
   "execution_count": null,
   "metadata": {
    "collapsed": true
   },
   "outputs": [],
   "source": []
  }
 ],
 "metadata": {
  "anaconda-cloud": {},
  "kernelspec": {
   "display_name": "Python [default]",
   "language": "python",
   "name": "python3"
  },
  "language_info": {
   "codemirror_mode": {
    "name": "ipython",
    "version": 3
   },
   "file_extension": ".py",
   "mimetype": "text/x-python",
   "name": "python",
   "nbconvert_exporter": "python",
   "pygments_lexer": "ipython3",
   "version": "3.5.2"
  }
 },
 "nbformat": 4,
 "nbformat_minor": 2
}
