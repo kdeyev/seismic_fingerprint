{
 "cells": [
  {
   "cell_type": "markdown",
   "metadata": {},
   "source": [
    "TF"
   ]
  },
  {
   "cell_type": "code",
   "execution_count": 1,
   "metadata": {
    "collapsed": false
   },
   "outputs": [],
   "source": [
    "import seismic_ml_kernel"
   ]
  },
  {
   "cell_type": "code",
   "execution_count": null,
   "metadata": {
    "collapsed": true
   },
   "outputs": [],
   "source": []
  },
  {
   "cell_type": "code",
   "execution_count": 2,
   "metadata": {
    "collapsed": false
   },
   "outputs": [],
   "source": [
    "#train (train_data_dir, validation_data_dir, image_size)\n",
    "#test (validation_data_dir + 'noise/', image_size)"
   ]
  },
  {
   "cell_type": "code",
   "execution_count": null,
   "metadata": {
    "collapsed": false
   },
   "outputs": [],
   "source": []
  },
  {
   "cell_type": "code",
   "execution_count": 3,
   "metadata": {
    "collapsed": false
   },
   "outputs": [
    {
     "name": "stderr",
     "output_type": "stream",
     "text": [
      "Using TensorFlow backend.\n"
     ]
    }
   ],
   "source": [
    "from keras.datasets import mnist # subroutines for fetching the MNIST dataset\n",
    "(X_train, y_train), (X_test, y_test) = mnist.load_data() # fetch MNIST data\n",
    "\n",
    "#mn (X_train, y_train, X_test, y_test)"
   ]
  },
  {
   "cell_type": "code",
   "execution_count": 4,
   "metadata": {
    "collapsed": false
   },
   "outputs": [],
   "source": [
    "from keras.datasets import cifar10 # subroutines for fetching the CIFAR-10 dataset\n",
    "(X_train, y_train), (X_test, y_test) = cifar10.load_data() # fetch CIFAR-10 data\n",
    "\n",
    "#ci (X_train, y_train, X_test, y_test)"
   ]
  },
  {
   "cell_type": "code",
   "execution_count": null,
   "metadata": {
    "collapsed": true
   },
   "outputs": [],
   "source": [
    "def seis_dataset ():\n",
    "    import numpy as np\n",
    "    import seismic_handler\n",
    "    \n",
    "    noisers = [None, seismic_handler.FreqNoiser()]\n",
    "    \n",
    "    images_dir = 'images/'\n",
    "\n",
    "    import os\n",
    "    if os.path.exists(images_dir):\n",
    "        import shutil\n",
    "        shutil.rmtree(images_dir)\n",
    "\n",
    "    if not os.path.exists(images_dir):\n",
    "        os.makedirs(images_dir)\n",
    "\n",
    "    train_data_dir = images_dir + 'train/'\n",
    "    validation_data_dir = images_dir + 'validation/'\n",
    "\n",
    "    if not os.path.exists(train_data_dir):\n",
    "        os.makedirs(train_data_dir)\n",
    "\n",
    "    if not os.path.exists(validation_data_dir):\n",
    "        os.makedirs(validation_data_dir)\n",
    "    \n",
    "    handler = seismic_handler.SeismicPrestack('data/prestack.sgy', None)\n",
    "    handlerNoise = seismic_handler.SeismicPrestack('data/prestack.sgy', seismic_handler.FreqNoiser())\n",
    "    \n",
    "    from keras.preprocessing.image import ImageDataGenerator, array_to_img, img_to_array, load_img\n",
    "\n",
    "    X_train = []\n",
    "    y_train = []\n",
    "    X_test = [] \n",
    "    y_test = []\n",
    "    \n",
    "    counter = 0\n",
    "    \n",
    "    vals = handler.getHeaderVals ('original_field_record_number')\n",
    "    valsNoise = handlerNoise.getHeaderVals ('original_field_record_number')\n",
    "            \n",
    "    for v in vals:\n",
    "\n",
    "        parts = handler.readGatherParts (v, 50, 0.5)\n",
    "        partsNoise = handlerNoise.readGatherParts (v, 50, 0.5)\n",
    "        if len (partsNoise) != len (parts):\n",
    "            exit ()\n",
    "        \n",
    "        nparts = len(parts)\n",
    "\n",
    "        sh = parts[0].shape\n",
    "        for i in range(nparts):                \n",
    "            if i % 2 == 0:\n",
    "                data = partsNoise[i]\n",
    "                category = 1\n",
    "            else:\n",
    "                category = 0\n",
    "                data = parts[i]\n",
    "                \n",
    "            if data.shape != sh:\n",
    "                throw ('wrong shapes')\n",
    "\n",
    "            image = seismic_handler.convert_to_image (data.T)\n",
    "            data = img_to_array (image)\n",
    "\n",
    "            if i < nparts*0.8:\n",
    "                X_train.append(data)\n",
    "                y_train.append (category)\n",
    "                png_name = train_data_dir\n",
    "            else:\n",
    "                X_test.append(data)\n",
    "                y_test.append(category)   \n",
    "                png_name = validation_data_dir\n",
    "                \n",
    "            if category == 1:\n",
    "                png_name += 'noise/'\n",
    "            else:\n",
    "                png_name += 'norm/'    \n",
    "            \n",
    "            if not os.path.exists(png_name):\n",
    "                os.makedirs(png_name)\n",
    "                \n",
    "            png_name += str(counter) + '.png'\n",
    "            image.save (png_name)\n",
    "                \n",
    "            counter = counter+1\n",
    "    \n",
    "    y_test = np.array(y_test)\n",
    "    y_train = np.array(y_train)\n",
    "    X_train = np.array(X_train)\n",
    "    X_test = np.array(X_test)\n",
    "    \n",
    "    \n",
    "    if len(X_train) != len(y_train):\n",
    "        print ('len(X_train) != len(y_train)')\n",
    "        return\n",
    "    if len(X_test) != len(y_test):\n",
    "        print ('len(X_test) != len(y_test)')\n",
    "        return\n",
    "\n",
    "    return (X_train, y_train), (X_test, y_test)"
   ]
  },
  {
   "cell_type": "code",
   "execution_count": null,
   "metadata": {
    "collapsed": false,
    "scrolled": false
   },
   "outputs": [],
   "source": [
    "import seismic_ml_kernel\n",
    "\n",
    "(X_train, y_train), (X_test, y_test) = seis_dataset ()\n",
    "\n",
    "seismic_ml_kernel.ci (X_train, y_train, X_test, y_test)"
   ]
  },
  {
   "cell_type": "code",
   "execution_count": null,
   "metadata": {
    "collapsed": true
   },
   "outputs": [],
   "source": []
  },
  {
   "cell_type": "code",
   "execution_count": null,
   "metadata": {
    "collapsed": true
   },
   "outputs": [],
   "source": []
  }
 ],
 "metadata": {
  "anaconda-cloud": {},
  "kernelspec": {
   "display_name": "Python [default]",
   "language": "python",
   "name": "python3"
  }
 },
 "nbformat": 4,
 "nbformat_minor": 2
}
