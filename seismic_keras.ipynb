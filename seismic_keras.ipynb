{
 "cells": [
  {
   "cell_type": "markdown",
   "metadata": {
    "collapsed": true
   },
   "source": [
    "# build dataset"
   ]
  },
  {
   "cell_type": "code",
   "execution_count": 1,
   "metadata": {
    "collapsed": false,
    "scrolled": false
   },
   "outputs": [
    {
     "name": "stderr",
     "output_type": "stream",
     "text": [
      "Using TensorFlow backend.\n"
     ]
    }
   ],
   "source": [
    "import seismic_dataset_builder\n",
    "    \n",
    "#noisers = [None, seismic_handler.FreqNoiser()]\n",
    "noisers = [None,                                                # original gather\n",
    "           seismic_dataset_builder.BP(0.1, 0.15, 0.2, 0.25, 1), # BP1\n",
    "           seismic_dataset_builder.BP(0.2, 0.25, 0.3, 0.35, 1), # BP2\n",
    "           seismic_dataset_builder.BP(0.3, 0.35, 0.4, 0.45, 1), # BP3\n",
    "           seismic_dataset_builder.BP(0.4, 0.45, 0.5, 0.55, 1), # BP4\n",
    "          ]\n",
    "#noisers = [None, seismic_handler.BP(0.1, 0.15, 0.2, 0.25, 1)]\n",
    "\n",
    "(X_train, y_train), (X_test, y_test) = seismic_dataset_builder.create_seis_dataset ( file_name ='data/prestack.sgy', \n",
    "                                                                                     sorting_key = 'original_field_record_number', \n",
    "                                                                                     window = [50, 0.5], \n",
    "                                                                                     noisers = noisers,\n",
    "                                                                                     #images_dir = None # dont create images\n",
    "                                                                                    )"
   ]
  },
  {
   "cell_type": "markdown",
   "metadata": {},
   "source": [
    "# build and train CNN"
   ]
  },
  {
   "cell_type": "code",
   "execution_count": 2,
   "metadata": {
    "collapsed": false,
    "scrolled": true
   },
   "outputs": [
    {
     "name": "stdout",
     "output_type": "stream",
     "text": [
      "image has 4600 pixels\n"
     ]
    },
    {
     "name": "stderr",
     "output_type": "stream",
     "text": [
      "C:\\Users\\kostyad\\Documents\\Jupyter\\seismic_fingerprint\\seismic_ml_kernel.py:138: UserWarning: Update your `Model` call to the Keras 2 API: `Model(inputs=Tensor(\"in..., outputs=Tensor(\"fl...)`\n",
      "  vision_model = Model(input=inp, output=flat) # To define a model, just specify its input and output layers\n"
     ]
    },
    {
     "name": "stdout",
     "output_type": "stream",
     "text": [
      "image has 2300 pixels\n",
      "image has 2350 pixels\n",
      "number of vision models 3\n",
      "Vision models are ready\n",
      "Classification model is ready\n",
      "Classification model compiled\n",
      "Train on 11907 samples, validate on 1324 samples\n",
      "Epoch 1/30\n",
      "11907/11907 [==============================] - 819s - loss: 1.3420 - acc: 0.4175 - val_loss: 0.7045 - val_acc: 0.8006\n",
      "Epoch 2/30\n",
      "11907/11907 [==============================] - 857s - loss: 0.8795 - acc: 0.6690 - val_loss: 0.5360 - val_acc: 0.8580\n",
      "Epoch 3/30\n",
      "11907/11907 [==============================] - 854s - loss: 0.7626 - acc: 0.7182 - val_loss: 0.4593 - val_acc: 0.8542\n",
      "Epoch 4/30\n",
      "11907/11907 [==============================] - 854s - loss: 0.7143 - acc: 0.7402 - val_loss: 0.3964 - val_acc: 0.8852\n",
      "Epoch 5/30\n",
      "11907/11907 [==============================] - 851s - loss: 0.6709 - acc: 0.7530 - val_loss: 0.3682 - val_acc: 0.8988\n",
      "Epoch 6/30\n",
      "11907/11907 [==============================] - 829s - loss: 0.6242 - acc: 0.7677 - val_loss: 0.3492 - val_acc: 0.8814\n",
      "Epoch 7/30\n",
      "11907/11907 [==============================] - 868s - loss: 0.5973 - acc: 0.7798 - val_loss: 0.3212 - val_acc: 0.8935\n",
      "Epoch 8/30\n",
      "11907/11907 [==============================] - 866s - loss: 0.5709 - acc: 0.7864 - val_loss: 0.3118 - val_acc: 0.8927\n",
      "Epoch 9/30\n",
      "11907/11907 [==============================] - 855s - loss: 0.5415 - acc: 0.7982 - val_loss: 0.3102 - val_acc: 0.9033\n",
      "Epoch 10/30\n",
      "11907/11907 [==============================] - 860s - loss: 0.5241 - acc: 0.8052 - val_loss: 0.2934 - val_acc: 0.8927\n",
      "Epoch 11/30\n",
      "11907/11907 [==============================] - 866s - loss: 0.5041 - acc: 0.8115 - val_loss: 0.2764 - val_acc: 0.9177\n",
      "Epoch 12/30\n",
      "11907/11907 [==============================] - 858s - loss: 0.4791 - acc: 0.8193 - val_loss: 0.2709 - val_acc: 0.9063\n",
      "Epoch 13/30\n",
      "11907/11907 [==============================] - 857s - loss: 0.4748 - acc: 0.8262 - val_loss: 0.2612 - val_acc: 0.9169\n",
      "Epoch 14/30\n",
      "11907/11907 [==============================] - 868s - loss: 0.4598 - acc: 0.8286 - val_loss: 0.2479 - val_acc: 0.9192\n",
      "Epoch 15/30\n",
      "11907/11907 [==============================] - 870s - loss: 0.4366 - acc: 0.8392 - val_loss: 0.2747 - val_acc: 0.9003\n",
      "Epoch 16/30\n",
      "11907/11907 [==============================] - 862s - loss: 0.4263 - acc: 0.8440 - val_loss: 0.2647 - val_acc: 0.9094\n",
      "Epoch 17/30\n",
      "11907/11907 [==============================] - 857s - loss: 0.4144 - acc: 0.8456 - val_loss: 0.2135 - val_acc: 0.9305\n",
      "Epoch 18/30\n",
      "11907/11907 [==============================] - 872s - loss: 0.4132 - acc: 0.8451 - val_loss: 0.2523 - val_acc: 0.9071\n",
      "Epoch 19/30\n",
      "11907/11907 [==============================] - 873s - loss: 0.4024 - acc: 0.8512 - val_loss: 0.2438 - val_acc: 0.9056\n",
      "Epoch 20/30\n",
      "11907/11907 [==============================] - 871s - loss: 0.3871 - acc: 0.8571 - val_loss: 0.2627 - val_acc: 0.9124\n",
      "Epoch 21/30\n",
      "11907/11907 [==============================] - 872s - loss: 0.3670 - acc: 0.8633 - val_loss: 0.2429 - val_acc: 0.9162\n",
      "Epoch 22/30\n",
      "11907/11907 [==============================] - 874s - loss: 0.3710 - acc: 0.8606 - val_loss: 0.2192 - val_acc: 0.9267\n",
      "Epoch 23/30\n",
      "11907/11907 [==============================] - 864s - loss: 0.3596 - acc: 0.8669 - val_loss: 0.2273 - val_acc: 0.9252\n"
     ]
    }
   ],
   "source": [
    "import seismic_ml_kernel\n",
    "#seismic_ml_kernel.mn (X_train[0], y_train, X_test[0], y_test)\n",
    "model = seismic_ml_kernel.ci_multi_train (X_train, y_train, 30)"
   ]
  },
  {
   "cell_type": "markdown",
   "metadata": {},
   "source": [
    "# test dataset"
   ]
  },
  {
   "cell_type": "code",
   "execution_count": 3,
   "metadata": {
    "collapsed": false
   },
   "outputs": [
    {
     "name": "stdout",
     "output_type": "stream",
     "text": [
      "3214/3214 [==============================] - 62s    \n",
      "[0.35144880864660266, 0.87834474179191324]\n"
     ]
    }
   ],
   "source": [
    "seismic_ml_kernel.ci_multi_test (model, X_test, y_test)"
   ]
  },
  {
   "cell_type": "markdown",
   "metadata": {},
   "source": [
    "# prediction on single image"
   ]
  },
  {
   "cell_type": "code",
   "execution_count": 12,
   "metadata": {
    "collapsed": false,
    "scrolled": true
   },
   "outputs": [
    {
     "name": "stdout",
     "output_type": "stream",
     "text": [
      "sample 2474\n",
      "correct 1\n"
     ]
    },
    {
     "data": {
      "text/html": [
       "\n",
       "        <style  type=\"text/css\" >\n",
       "        \n",
       "        \n",
       "            #T_4672226e_95dc_11e7_abd2_e4a7a07c26f7row0_col1 {\n",
       "            \n",
       "                background-color:  green;\n",
       "            \n",
       "            }\n",
       "        \n",
       "        </style>\n",
       "\n",
       "        <table id=\"T_4672226e_95dc_11e7_abd2_e4a7a07c26f7\" None>\n",
       "        \n",
       "\n",
       "        <thead>\n",
       "            \n",
       "            <tr>\n",
       "                \n",
       "                <th class=\"blank\">\n",
       "                \n",
       "                <th class=\"col_heading level0 col0\">0\n",
       "                \n",
       "                <th class=\"col_heading level0 col1\">1\n",
       "                \n",
       "                <th class=\"col_heading level0 col2\">2\n",
       "                \n",
       "                <th class=\"col_heading level0 col3\">3\n",
       "                \n",
       "                <th class=\"col_heading level0 col4\">4\n",
       "                \n",
       "            </tr>\n",
       "            \n",
       "        </thead>\n",
       "        <tbody>\n",
       "            \n",
       "            <tr>\n",
       "                \n",
       "                <th id=\"T_4672226e_95dc_11e7_abd2_e4a7a07c26f7\" class=\"row_heading level4 row0\">\n",
       "                    0\n",
       "                \n",
       "                <td id=\"T_4672226e_95dc_11e7_abd2_e4a7a07c26f7row0_col0\" class=\"data row0 col0\">\n",
       "                    10.2957\n",
       "                \n",
       "                <td id=\"T_4672226e_95dc_11e7_abd2_e4a7a07c26f7row0_col1\" class=\"data row0 col1\">\n",
       "                    51.8324\n",
       "                \n",
       "                <td id=\"T_4672226e_95dc_11e7_abd2_e4a7a07c26f7row0_col2\" class=\"data row0 col2\">\n",
       "                    0.0220729\n",
       "                \n",
       "                <td id=\"T_4672226e_95dc_11e7_abd2_e4a7a07c26f7row0_col3\" class=\"data row0 col3\">\n",
       "                    0.130584\n",
       "                \n",
       "                <td id=\"T_4672226e_95dc_11e7_abd2_e4a7a07c26f7row0_col4\" class=\"data row0 col4\">\n",
       "                    37.7192\n",
       "                \n",
       "            </tr>\n",
       "            \n",
       "        </tbody>\n",
       "        </table>\n",
       "        "
      ],
      "text/plain": [
       "<pandas.formats.style.Styler at 0x13793817c18>"
      ]
     },
     "execution_count": 12,
     "metadata": {},
     "output_type": "execute_result"
    },
    {
     "data": {
      "image/png": "[encoded data removed]",
      "text/plain": [
       "<matplotlib.figure.Figure at 0x137930353c8>"
      ]
     },
     "metadata": {},
     "output_type": "display_data"
    }
   ],
   "source": [
    "import matplotlib.pyplot as plt\n",
    "%matplotlib inline\n",
    "    \n",
    "sample, correct, table = seismic_ml_kernel.ci_multi_evaluate_random (model, X_test, y_test)\n",
    "\n",
    "print('sample', sample)\n",
    "print('correct', correct)\n",
    "\n",
    "table"
   ]
  },
  {
   "cell_type": "code",
   "execution_count": null,
   "metadata": {
    "collapsed": true
   },
   "outputs": [],
   "source": []
  },
  {
   "cell_type": "code",
   "execution_count": null,
   "metadata": {
    "collapsed": true
   },
   "outputs": [],
   "source": []
  },
  {
   "cell_type": "code",
   "execution_count": null,
   "metadata": {
    "collapsed": true
   },
   "outputs": [],
   "source": []
  },
  {
   "cell_type": "code",
   "execution_count": null,
   "metadata": {
    "collapsed": true
   },
   "outputs": [],
   "source": []
  },
  {
   "cell_type": "code",
   "execution_count": null,
   "metadata": {
    "collapsed": true
   },
   "outputs": [],
   "source": []
  },
  {
   "cell_type": "code",
   "execution_count": null,
   "metadata": {
    "collapsed": true
   },
   "outputs": [],
   "source": []
  },
  {
   "cell_type": "markdown",
   "metadata": {},
   "source": [
    "# vision model 1\n",
    "![title](outputs/vision_model0.png)"
   ]
  },
  {
   "cell_type": "markdown",
   "metadata": {},
   "source": [
    "# vision model 2\n",
    "![title](outputs/vision_model1.png)"
   ]
  },
  {
   "cell_type": "markdown",
   "metadata": {},
   "source": [
    "# vision model 3\n",
    "![title](outputs/vision_model2.png)"
   ]
  },
  {
   "cell_type": "markdown",
   "metadata": {},
   "source": [
    "# classification model\n",
    "![title](outputs/classification_model.png)"
   ]
  },
  {
   "cell_type": "code",
   "execution_count": null,
   "metadata": {
    "collapsed": true
   },
   "outputs": [],
   "source": []
  },
  {
   "cell_type": "code",
   "execution_count": null,
   "metadata": {
    "collapsed": true
   },
   "outputs": [],
   "source": []
  },
  {
   "cell_type": "code",
   "execution_count": null,
   "metadata": {
    "collapsed": true
   },
   "outputs": [],
   "source": []
  },
  {
   "cell_type": "code",
   "execution_count": null,
   "metadata": {
    "collapsed": true
   },
   "outputs": [],
   "source": []
  },
  {
   "cell_type": "code",
   "execution_count": null,
   "metadata": {
    "collapsed": true
   },
   "outputs": [],
   "source": []
  },
  {
   "cell_type": "code",
   "execution_count": null,
   "metadata": {
    "collapsed": true
   },
   "outputs": [],
   "source": []
  },
  {
   "cell_type": "code",
   "execution_count": null,
   "metadata": {
    "collapsed": true
   },
   "outputs": [],
   "source": []
  },
  {
   "cell_type": "code",
   "execution_count": null,
   "metadata": {
    "collapsed": true
   },
   "outputs": [],
   "source": []
  },
  {
   "cell_type": "code",
   "execution_count": null,
   "metadata": {
    "collapsed": true
   },
   "outputs": [],
   "source": []
  },
  {
   "cell_type": "code",
   "execution_count": null,
   "metadata": {
    "collapsed": true
   },
   "outputs": [],
   "source": []
  },
  {
   "cell_type": "code",
   "execution_count": null,
   "metadata": {
    "collapsed": true
   },
   "outputs": [],
   "source": []
  },
  {
   "cell_type": "code",
   "execution_count": null,
   "metadata": {
    "collapsed": false
   },
   "outputs": [],
   "source": [
    "python -m tensorflow.tensorboard --logdir=outputs/Graph"
   ]
  },
  {
   "cell_type": "code",
   "execution_count": null,
   "metadata": {
    "collapsed": true
   },
   "outputs": [],
   "source": []
  },
  {
   "cell_type": "code",
   "execution_count": null,
   "metadata": {
    "collapsed": true
   },
   "outputs": [],
   "source": []
  },
  {
   "cell_type": "code",
   "execution_count": null,
   "metadata": {
    "collapsed": true
   },
   "outputs": [],
   "source": []
  },
  {
   "cell_type": "code",
   "execution_count": null,
   "metadata": {
    "collapsed": true
   },
   "outputs": [],
   "source": []
  },
  {
   "cell_type": "code",
   "execution_count": null,
   "metadata": {
    "collapsed": true
   },
   "outputs": [],
   "source": []
  },
  {
   "cell_type": "code",
   "execution_count": null,
   "metadata": {
    "collapsed": true
   },
   "outputs": [],
   "source": []
  },
  {
   "cell_type": "code",
   "execution_count": null,
   "metadata": {
    "collapsed": true
   },
   "outputs": [],
   "source": [
    "import h5py\n",
    "import json\n",
    "import gzip\n",
    "\n",
    "layer_name_dict = {\n",
    "    'Dense': 'denseLayer',\n",
    "    'Dropout': 'dropoutLayer',\n",
    "    'Flatten': 'flattenLayer',\n",
    "    'Embedding': 'embeddingLayer',\n",
    "    'BatchNormalization': 'batchNormalizationLayer',\n",
    "    'LeakyReLU': 'leakyReLULayer',\n",
    "    'PReLU': 'parametricReLULayer',\n",
    "    'ParametricSoftplus': 'parametricSoftplusLayer',\n",
    "    'ThresholdedLinear': 'thresholdedLinearLayer',\n",
    "    'ThresholdedReLu': 'thresholdedReLuLayer',\n",
    "    'LSTM': 'rLSTMLayer',\n",
    "    'GRU': 'rGRULayer',\n",
    "    'JZS1': 'rJZS1Layer',\n",
    "    'JZS2': 'rJZS2Layer',\n",
    "    'JZS3': 'rJZS3Layer',\n",
    "    'Convolution2D': 'convolution2DLayer',\n",
    "    'MaxPooling2D': 'maxPooling2DLayer'\n",
    "}\n",
    "\n",
    "layer_params_dict = {\n",
    "    'Dense': ['weights', 'activation'],\n",
    "    'Dropout': ['p'],\n",
    "    'Flatten': [],\n",
    "    'Embedding': ['weights'],\n",
    "    'BatchNormalization': ['weights', 'epsilon'],\n",
    "    'LeakyReLU': ['alpha'],\n",
    "    'PReLU': ['weights'],\n",
    "    'ParametricSoftplus': ['weights'],\n",
    "    'ThresholdedLinear': ['theta'],\n",
    "    'ThresholdedReLu': ['theta'],\n",
    "    'LSTM': ['weights', 'activation', 'inner_activation', 'return_sequences'],\n",
    "    'GRU': ['weights', 'activation', 'inner_activation', 'return_sequences'],\n",
    "    'JZS1': ['weights', 'activation', 'inner_activation', 'return_sequences'],\n",
    "    'JZS2': ['weights', 'activation', 'inner_activation', 'return_sequences'],\n",
    "    'JZS3': ['weights', 'activation', 'inner_activation', 'return_sequences'],\n",
    "    'Convolution2D': ['weights', 'nb_filter', 'nb_row', 'nb_col', 'border_mode', 'subsample', 'activation'],\n",
    "    'MaxPooling2D': ['pool_size', 'stride', 'ignore_border']\n",
    "}\n",
    "\n",
    "layer_weights_dict = {\n",
    "    'Dense': ['W', 'b'],\n",
    "    'Embedding': ['E'],\n",
    "    'BatchNormalization': ['gamma', 'beta', 'mean', 'std'],\n",
    "    'PReLU': ['alphas'],\n",
    "    'ParametricSoftplus': ['alphas', 'betas'],\n",
    "    'LSTM': ['W_xi', 'W_hi', 'b_i', 'W_xc', 'W_hc', 'b_c', 'W_xf', 'W_hf', 'b_f', 'W_xo', 'W_ho', 'b_o'],\n",
    "    'GRU': ['W_xz', 'W_hz', 'b_z', 'W_xr', 'W_hr', 'b_r', 'W_xh', 'W_hh', 'b_h'],\n",
    "    'JZS1': ['W_xz', 'b_z', 'W_xr', 'W_hr', 'b_r', 'W_hh', 'b_h', 'Pmat'],\n",
    "    'JZS2': ['W_xz', 'W_hz', 'b_z', 'W_hr', 'b_r', 'W_xh', 'W_hh', 'b_h', 'Pmat'],\n",
    "    'JZS3': ['W_xz', 'W_hz', 'b_z', 'W_xr', 'W_hr', 'b_r', 'W_xh', 'W_hh', 'b_h'],\n",
    "    'Convolution2D': ['W', 'b']\n",
    "}\n",
    "\n",
    "def serialize(model_json_file, weights_hdf5_file, save_filepath, compress):\n",
    "    with open(model_json_file, 'r') as f:\n",
    "        model_metadata = json.load(f)\n",
    "    weights_file = h5py.File(weights_hdf5_file, 'r')\n",
    "\n",
    "    layers = []\n",
    "\n",
    "    num_activation_layers = 0\n",
    "    for k, layer in enumerate(model_metadata['layers']):\n",
    "        if layer['name'] == 'Activation':\n",
    "            num_activation_layers += 1\n",
    "            prev_layer_name = model_metadata['layers'][k-1]['name']\n",
    "            idx_activation = layer_params_dict[prev_layer_name].index('activation')\n",
    "            layers[k-num_activation_layers]['parameters'][idx_activation] = layer['activation']\n",
    "            continue\n",
    "\n",
    "        layer_params = []\n",
    "\n",
    "        for param in layer_params_dict[layer['name']]:\n",
    "            if param == 'weights':\n",
    "                layer_weights = list(weights_file.get('layer_{}'.format(k)))\n",
    "                weights = {}\n",
    "                weight_names = layer_weights_dict[layer['name']]\n",
    "                for name, w in zip(weight_names, layer_weights):\n",
    "                    weights[name] = weights_file.get('layer_{}/{}'.format(k, w)).value.tolist()\n",
    "                layer_params.append(weights)\n",
    "            else:\n",
    "                layer_params.append(layer[param])\n",
    "\n",
    "        layers.append({\n",
    "            'layerName': layer_name_dict[layer['name']],\n",
    "            'parameters': layer_params\n",
    "        })\n",
    "\n",
    "    if compress:\n",
    "        with gzip.open(save_filepath, 'wb') as f:\n",
    "            f.write(json.dumps(layers).encode('utf8'))\n",
    "    else:\n",
    "        with open(save_filepath, 'w') as f:\n",
    "            json.dump(layers, f)\n"
   ]
  },
  {
   "cell_type": "code",
   "execution_count": null,
   "metadata": {
    "collapsed": false
   },
   "outputs": [],
   "source": [
    "import json\n",
    "model_metadata = json.loads(model.to_json())\n",
    "\n",
    "with open('web_interface/model.json', 'w') as f:\n",
    "    json.dump(model_metadata, f)\n",
    "    \n",
    "model.save_weights('web_interface/weights.hdf5')"
   ]
  },
  {
   "cell_type": "code",
   "execution_count": null,
   "metadata": {
    "collapsed": false,
    "scrolled": true
   },
   "outputs": [],
   "source": [
    "serialize('web_interface/model.json', \n",
    "          'web_interface/model.hdf5', \n",
    "          'web_interface/model_params.json.gz', \n",
    "          True)"
   ]
  },
  {
   "cell_type": "code",
   "execution_count": null,
   "metadata": {
    "collapsed": false
   },
   "outputs": [],
   "source": [
    "X_save = [a.tolist() for a in X_test]\n",
    "with gzip.open('web_interface/data.json.gz', 'wb') as f:\n",
    "    f.write(json.dumps({'data': X_save, 'labels': y_test.tolist()}).encode('utf8'))\n",
    "#with open('sample_data.json', 'w') as f:\n",
    "#    json.dump({'data': X_rand.tolist(), 'labels': y_rand.tolist()}, f)"
   ]
  },
  {
   "cell_type": "code",
   "execution_count": null,
   "metadata": {
    "collapsed": true
   },
   "outputs": [],
   "source": []
  },
  {
   "cell_type": "code",
   "execution_count": null,
   "metadata": {
    "collapsed": true
   },
   "outputs": [],
   "source": []
  },
  {
   "cell_type": "code",
   "execution_count": null,
   "metadata": {
    "collapsed": false
   },
   "outputs": [],
   "source": [
    "import encoder\n",
    "e = Encoder ('web_interface/model.hdf5')\n",
    "e.serialize()\n",
    "e.save()"
   ]
  },
  {
   "cell_type": "code",
   "execution_count": null,
   "metadata": {
    "collapsed": false
   },
   "outputs": [],
   "source": []
  },
  {
   "cell_type": "code",
   "execution_count": null,
   "metadata": {
    "collapsed": true
   },
   "outputs": [],
   "source": []
  }
 ],
 "metadata": {
  "anaconda-cloud": {},
  "kernelspec": {
   "display_name": "Python [default]",
   "language": "python",
   "name": "python3"
  },
  "language_info": {
   "codemirror_mode": {
    "name": "ipython",
    "version": 3
   },
   "file_extension": ".py",
   "mimetype": "text/x-python",
   "name": "python",
   "nbconvert_exporter": "python",
   "pygments_lexer": "ipython3",
   "version": "3.5.2"
  }
 },
 "nbformat": 4,
 "nbformat_minor": 2
}
