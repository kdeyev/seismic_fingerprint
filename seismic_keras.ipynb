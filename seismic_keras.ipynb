{
 "cells": [
  {
   "cell_type": "markdown",
   "metadata": {},
   "source": [
    "TF"
   ]
  },
  {
   "cell_type": "code",
   "execution_count": 1,
   "metadata": {
    "collapsed": false
   },
   "outputs": [],
   "source": [
    "import seismic_ml_kernel"
   ]
  },
  {
   "cell_type": "code",
   "execution_count": null,
   "metadata": {
    "collapsed": true
   },
   "outputs": [],
   "source": []
  },
  {
   "cell_type": "code",
   "execution_count": 2,
   "metadata": {
    "collapsed": false
   },
   "outputs": [],
   "source": [
    "#train (train_data_dir, validation_data_dir, image_size)\n",
    "#test (validation_data_dir + 'noise/', image_size)"
   ]
  },
  {
   "cell_type": "code",
   "execution_count": null,
   "metadata": {
    "collapsed": false
   },
   "outputs": [],
   "source": []
  },
  {
   "cell_type": "code",
   "execution_count": 3,
   "metadata": {
    "collapsed": false
   },
   "outputs": [
    {
     "name": "stderr",
     "output_type": "stream",
     "text": [
      "Using TensorFlow backend.\n"
     ]
    }
   ],
   "source": [
    "from keras.datasets import mnist # subroutines for fetching the MNIST dataset\n",
    "(X_train, y_train), (X_test, y_test) = mnist.load_data() # fetch MNIST data\n",
    "\n",
    "#mn (X_train, y_train, X_test, y_test)"
   ]
  },
  {
   "cell_type": "code",
   "execution_count": 1,
   "metadata": {
    "collapsed": false
   },
   "outputs": [
    {
     "name": "stderr",
     "output_type": "stream",
     "text": [
      "Using TensorFlow backend.\n"
     ]
    }
   ],
   "source": [
    "from keras.datasets import cifar10 # subroutines for fetching the CIFAR-10 dataset\n",
    "(X_train, y_train), (X_test, y_test) = cifar10.load_data() # fetch CIFAR-10 data\n",
    "\n",
    "#ci (X_train, y_train, X_test, y_test)"
   ]
  },
  {
   "cell_type": "code",
   "execution_count": 1,
   "metadata": {
    "collapsed": true
   },
   "outputs": [],
   "source": []
  },
  {
   "cell_type": "code",
   "execution_count": null,
   "metadata": {
    "collapsed": false,
    "scrolled": false
   },
   "outputs": [
    {
     "name": "stderr",
     "output_type": "stream",
     "text": [
      "Using TensorFlow backend.\n"
     ]
    }
   ],
   "source": [
    "import seismic_dataset_builder\n",
    "    \n",
    "#noisers = [None, seismic_handler.FreqNoiser()]\n",
    "noisers = [None,                                                # original gather\n",
    "           seismic_dataset_builder.BP(0.1, 0.15, 0.2, 0.25, 1), # BP1\n",
    "           seismic_dataset_builder.BP(0.2, 0.25, 0.3, 0.35, 1), # BP2\n",
    "           seismic_dataset_builder.BP(0.3, 0.35, 0.4, 0.45, 1), # BP3\n",
    "           seismic_dataset_builder.BP(0.4, 0.45, 0.5, 0.55, 1), # BP4\n",
    "          ]\n",
    "#noisers = [None, seismic_handler.BP(0.1, 0.15, 0.2, 0.25, 1)]\n",
    "\n",
    "(X_train, y_train), (X_test, y_test) = seismic_dataset_builder.create_seis_dataset ( file_name ='data/prestack.sgy', \n",
    "                                                                                     sorting_key = 'original_field_record_number', \n",
    "                                                                                     window = [50, 0.5], \n",
    "                                                                                     noisers = noisers,\n",
    "                                                                                     images_dir = None # dont create images\n",
    "                                                                                    )\n",
    "\n",
    "import seismic_ml_kernel\n",
    "#seismic_ml_kernel.mn (X_train[0], y_train, X_test[0], y_test)\n",
    "\n",
    "\n",
    "classification_model = seismic_ml_kernel.ci_multi_train (X_train, y_train)\n",
    "seismic_ml_kernel.ci_multi_test (classification_model, X_test, y_test)"
   ]
  },
  {
   "cell_type": "markdown",
   "metadata": {},
   "source": [
    "# vision layer\n",
    "![title](outputs/vision_model.png)"
   ]
  },
  {
   "cell_type": "code",
   "execution_count": 1,
   "metadata": {
    "collapsed": false
   },
   "outputs": [
    {
     "ename": "SyntaxError",
     "evalue": "invalid syntax (<ipython-input-1-70e8466a5ff2>, line 1)",
     "output_type": "error",
     "traceback": [
      "\u001b[1;36m  File \u001b[1;32m\"<ipython-input-1-70e8466a5ff2>\"\u001b[1;36m, line \u001b[1;32m1\u001b[0m\n\u001b[1;33m    python -m tensorflow.tensorboard --logdir=outputs/Graph\u001b[0m\n\u001b[1;37m                       ^\u001b[0m\n\u001b[1;31mSyntaxError\u001b[0m\u001b[1;31m:\u001b[0m invalid syntax\n"
     ]
    }
   ],
   "source": [
    "python -m tensorflow.tensorboard --logdir=outputs/Graph"
   ]
  },
  {
   "cell_type": "code",
   "execution_count": null,
   "metadata": {
    "collapsed": true
   },
   "outputs": [],
   "source": []
  }
 ],
 "metadata": {
  "anaconda-cloud": {},
  "kernelspec": {
   "display_name": "Python [default]",
   "language": "python",
   "name": "python3"
  },
  "language_info": {
   "codemirror_mode": {
    "name": "ipython",
    "version": 3
   },
   "file_extension": ".py",
   "mimetype": "text/x-python",
   "name": "python",
   "nbconvert_exporter": "python",
   "pygments_lexer": "ipython3",
   "version": "3.5.2"
  }
 },
 "nbformat": 4,
 "nbformat_minor": 2
}
