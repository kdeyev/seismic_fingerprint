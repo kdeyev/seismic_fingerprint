{
 "cells": [
  {
   "cell_type": "markdown",
   "metadata": {},
   "source": [
    "TF"
   ]
  },
  {
   "cell_type": "code",
   "execution_count": 1,
   "metadata": {
    "collapsed": false
   },
   "outputs": [],
   "source": [
    "import seismic_ml_kernel"
   ]
  },
  {
   "cell_type": "code",
   "execution_count": null,
   "metadata": {
    "collapsed": true
   },
   "outputs": [],
   "source": []
  },
  {
   "cell_type": "code",
   "execution_count": 2,
   "metadata": {
    "collapsed": false
   },
   "outputs": [],
   "source": [
    "#train (train_data_dir, validation_data_dir, image_size)\n",
    "#test (validation_data_dir + 'noise/', image_size)"
   ]
  },
  {
   "cell_type": "code",
   "execution_count": null,
   "metadata": {
    "collapsed": false
   },
   "outputs": [],
   "source": []
  },
  {
   "cell_type": "code",
   "execution_count": 3,
   "metadata": {
    "collapsed": false
   },
   "outputs": [
    {
     "name": "stderr",
     "output_type": "stream",
     "text": [
      "Using TensorFlow backend.\n"
     ]
    }
   ],
   "source": [
    "from keras.datasets import mnist # subroutines for fetching the MNIST dataset\n",
    "(X_train, y_train), (X_test, y_test) = mnist.load_data() # fetch MNIST data\n",
    "\n",
    "#mn (X_train, y_train, X_test, y_test)"
   ]
  },
  {
   "cell_type": "code",
   "execution_count": 1,
   "metadata": {
    "collapsed": false
   },
   "outputs": [
    {
     "name": "stderr",
     "output_type": "stream",
     "text": [
      "Using TensorFlow backend.\n"
     ]
    }
   ],
   "source": [
    "from keras.datasets import cifar10 # subroutines for fetching the CIFAR-10 dataset\n",
    "(X_train, y_train), (X_test, y_test) = cifar10.load_data() # fetch CIFAR-10 data\n",
    "\n",
    "#ci (X_train, y_train, X_test, y_test)"
   ]
  },
  {
   "cell_type": "code",
   "execution_count": 1,
   "metadata": {
    "collapsed": true
   },
   "outputs": [],
   "source": []
  },
  {
   "cell_type": "code",
   "execution_count": null,
   "metadata": {
    "collapsed": false,
    "scrolled": true
   },
   "outputs": [
    {
     "name": "stderr",
     "output_type": "stream",
     "text": [
      "Using TensorFlow backend.\n"
     ]
    },
    {
     "name": "stdout",
     "output_type": "stream",
     "text": [
      "number of vision models 3\n",
      "image has 4600 pixels\n"
     ]
    },
    {
     "name": "stderr",
     "output_type": "stream",
     "text": [
      "C:\\Users\\kostyad\\Documents\\Jupyter\\seismic_fingerprint\\seismic_ml_kernel.py:123: UserWarning: Update your `Conv2D` call to the Keras 2 API: `Conv2D(32, (3, 3), padding=\"same\", activation=\"relu\")`\n",
      "  conv_1 = Convolution2D(conv_depth_1, kernel_size, kernel_size, border_mode='same', activation='relu')(inp)\n",
      "C:\\Users\\kostyad\\Documents\\Jupyter\\seismic_fingerprint\\seismic_ml_kernel.py:124: UserWarning: Update your `Conv2D` call to the Keras 2 API: `Conv2D(32, (3, 3), padding=\"same\", activation=\"relu\")`\n",
      "  conv_2 = Convolution2D(conv_depth_1, kernel_size, kernel_size, border_mode='same', activation='relu')(conv_1)\n",
      "C:\\Users\\kostyad\\Documents\\Jupyter\\seismic_fingerprint\\seismic_ml_kernel.py:128: UserWarning: Update your `Conv2D` call to the Keras 2 API: `Conv2D(64, (3, 3), padding=\"same\", activation=\"relu\")`\n",
      "  conv_3 = Convolution2D(conv_depth_2, kernel_size, kernel_size, border_mode='same', activation='relu')(drop_1)\n",
      "C:\\Users\\kostyad\\Documents\\Jupyter\\seismic_fingerprint\\seismic_ml_kernel.py:129: UserWarning: Update your `Conv2D` call to the Keras 2 API: `Conv2D(64, (3, 3), padding=\"same\", activation=\"relu\")`\n",
      "  conv_4 = Convolution2D(conv_depth_2, kernel_size, kernel_size, border_mode='same', activation='relu')(conv_3)\n",
      "C:\\Users\\kostyad\\Documents\\Jupyter\\seismic_fingerprint\\seismic_ml_kernel.py:135: UserWarning: Update your `Model` call to the Keras 2 API: `Model(outputs=Tensor(\"fl..., inputs=Tensor(\"in...)`\n",
      "  vision_model = Model(input=inp, output=flat) # To define a model, just specify its input and output layers\n"
     ]
    },
    {
     "name": "stdout",
     "output_type": "stream",
     "text": [
      "image has 2300 pixels\n",
      "image has 2350 pixels\n",
      "Vision models are ready\n",
      "Classification model is ready\n",
      "Classification model compiled\n"
     ]
    },
    {
     "name": "stderr",
     "output_type": "stream",
     "text": [
      "C:\\Users\\kostyad\\Documents\\Jupyter\\seismic_fingerprint\\seismic_ml_kernel.py:191: UserWarning: The `nb_epoch` argument in `fit` has been renamed `epochs`.\n",
      "  verbose=1, validation_split=0.1) # ...holding out 10% of the data for validation\n"
     ]
    },
    {
     "name": "stdout",
     "output_type": "stream",
     "text": [
      "Train on 12226 samples, validate on 1359 samples\n",
      "Epoch 1/200\n",
      "12226/12226 [==============================] - 3573s - loss: 1.5782 - acc: 0.2308 - val_loss: 1.5549 - val_acc: 0.2252\n",
      "Epoch 2/200\n",
      "12226/12226 [==============================] - 947s - loss: 1.5266 - acc: 0.2612 - val_loss: 1.4999 - val_acc: 0.2612\n",
      "Epoch 3/200\n",
      "12226/12226 [==============================] - 972s - loss: 1.4811 - acc: 0.2846 - val_loss: 1.4521 - val_acc: 0.3039\n",
      "Epoch 4/200\n",
      "12226/12226 [==============================] - 952s - loss: 1.3195 - acc: 0.4126 - val_loss: 0.7093 - val_acc: 0.7373\n",
      "Epoch 5/200\n",
      "12226/12226 [==============================] - 944s - loss: 0.8735 - acc: 0.6646 - val_loss: 0.5240 - val_acc: 0.8609\n",
      "Epoch 6/200\n",
      "12226/12226 [==============================] - 949s - loss: 0.6552 - acc: 0.7549 - val_loss: 0.2965 - val_acc: 0.9338\n",
      "Epoch 7/200\n",
      "12226/12226 [==============================] - 956s - loss: 0.5592 - acc: 0.7954 - val_loss: 0.2441 - val_acc: 0.9507\n",
      "Epoch 8/200\n",
      "12226/12226 [==============================] - 930s - loss: 0.4961 - acc: 0.8194 - val_loss: 0.2240 - val_acc: 0.9455\n",
      "Epoch 9/200\n",
      "12226/12226 [==============================] - 948s - loss: 0.4454 - acc: 0.8356 - val_loss: 0.2080 - val_acc: 0.9426\n",
      "Epoch 10/200\n",
      "12226/12226 [==============================] - 819s - loss: 0.4147 - acc: 0.8466 - val_loss: 0.2043 - val_acc: 0.9330\n",
      "Epoch 11/200\n",
      "12226/12226 [==============================] - 818s - loss: 0.4000 - acc: 0.8511 - val_loss: 0.1558 - val_acc: 0.9573\n",
      "Epoch 12/200\n",
      "12226/12226 [==============================] - 820s - loss: 0.3531 - acc: 0.8701 - val_loss: 0.1913 - val_acc: 0.9455\n",
      "Epoch 13/200\n",
      "12226/12226 [==============================] - 818s - loss: 0.3326 - acc: 0.8784 - val_loss: 0.1703 - val_acc: 0.9478\n",
      "Epoch 14/200\n",
      "12226/12226 [==============================] - 834s - loss: 0.3125 - acc: 0.8810 - val_loss: 0.1639 - val_acc: 0.9492\n",
      "Epoch 15/200\n",
      "12226/12226 [==============================] - 827s - loss: 0.2854 - acc: 0.8932 - val_loss: 0.1819 - val_acc: 0.9433\n",
      "Epoch 16/200\n",
      "12226/12226 [==============================] - 819s - loss: 0.2722 - acc: 0.8982 - val_loss: 0.1547 - val_acc: 0.9544\n",
      "Epoch 17/200\n",
      "12226/12226 [==============================] - 823s - loss: 0.2586 - acc: 0.9050 - val_loss: 0.2084 - val_acc: 0.9352\n",
      "Epoch 18/200\n",
      "12226/12226 [==============================] - 828s - loss: 0.2472 - acc: 0.9069 - val_loss: 0.1582 - val_acc: 0.9514\n",
      "Epoch 19/200\n",
      "12226/12226 [==============================] - 824s - loss: 0.2385 - acc: 0.9086 - val_loss: 0.1666 - val_acc: 0.9507\n",
      "Epoch 20/200\n",
      "12226/12226 [==============================] - 820s - loss: 0.2066 - acc: 0.9228 - val_loss: 0.1689 - val_acc: 0.9478\n",
      "Epoch 21/200\n",
      "12226/12226 [==============================] - 817s - loss: 0.2121 - acc: 0.9223 - val_loss: 0.1383 - val_acc: 0.9581\n",
      "Epoch 22/200\n",
      "12226/12226 [==============================] - 817s - loss: 0.1967 - acc: 0.9252 - val_loss: 0.2081 - val_acc: 0.9338\n",
      "Epoch 23/200\n",
      "12226/12226 [==============================] - 825s - loss: 0.1817 - acc: 0.9342 - val_loss: 0.1767 - val_acc: 0.9448\n",
      "Epoch 24/200\n",
      "12226/12226 [==============================] - 818s - loss: 0.1725 - acc: 0.9378 - val_loss: 0.1352 - val_acc: 0.9558\n",
      "Epoch 25/200\n",
      "12226/12226 [==============================] - 816s - loss: 0.1845 - acc: 0.9319 - val_loss: 0.1573 - val_acc: 0.9514\n",
      "Epoch 26/200\n",
      "12226/12226 [==============================] - 815s - loss: 0.1843 - acc: 0.9331 - val_loss: 0.1545 - val_acc: 0.9492\n",
      "Epoch 27/200\n",
      "12226/12226 [==============================] - 814s - loss: 0.1592 - acc: 0.9433 - val_loss: 0.1681 - val_acc: 0.9433\n",
      "Epoch 28/200\n",
      "12226/12226 [==============================] - 825s - loss: 0.1577 - acc: 0.9410 - val_loss: 0.1441 - val_acc: 0.9500\n",
      "Epoch 29/200\n",
      "12226/12226 [==============================] - 816s - loss: 0.1413 - acc: 0.9503 - val_loss: 0.1737 - val_acc: 0.9463\n",
      "Epoch 30/200\n",
      "12226/12226 [==============================] - 816s - loss: 0.1502 - acc: 0.9445 - val_loss: 0.1672 - val_acc: 0.9514\n",
      "Epoch 31/200\n",
      "12226/12226 [==============================] - 816s - loss: 0.1326 - acc: 0.9513 - val_loss: 0.1429 - val_acc: 0.9610\n",
      "Epoch 32/200\n",
      "  928/12226 [=>............................] - ETA: 756s - loss: 0.1425 - acc: 0.9580"
     ]
    }
   ],
   "source": [
    "import seismic_dataset_builder\n",
    "    \n",
    "#noisers = [None, seismic_handler.FreqNoiser()]\n",
    "noisers = [None,                                                # original gather\n",
    "           seismic_dataset_builder.BP(0.1, 0.15, 0.2, 0.25, 1), # BP1\n",
    "           seismic_dataset_builder.BP(0.2, 0.25, 0.3, 0.35, 1), # BP2\n",
    "           seismic_dataset_builder.BP(0.3, 0.35, 0.4, 0.45, 1), # BP3\n",
    "           seismic_dataset_builder.BP(0.4, 0.45, 0.5, 0.55, 1), # BP4\n",
    "          ]\n",
    "#noisers = [None, seismic_handler.BP(0.1, 0.15, 0.2, 0.25, 1)]\n",
    "\n",
    "(X_train, y_train), (X_test, y_test) = seismic_dataset_builder.create_seis_dataset ( file_name ='data/prestack.sgy', \n",
    "                                                                                     sorting_key = 'original_field_record_number', \n",
    "                                                                                     window = [50, 0.5], \n",
    "                                                                                     noisers = noisers,\n",
    "                                                                                     images_dir = None # dont create images\n",
    "                                                                                    )\n",
    "\n",
    "import seismic_ml_kernel\n",
    "#seismic_ml_kernel.mn (X_train[0], y_train, X_test[0], y_test)\n",
    "seismic_ml_kernel.ci_multi (X_train, y_train, X_test, y_test)"
   ]
  },
  {
   "cell_type": "code",
   "execution_count": null,
   "metadata": {
    "collapsed": true
   },
   "outputs": [],
   "source": []
  },
  {
   "cell_type": "code",
   "execution_count": null,
   "metadata": {
    "collapsed": true
   },
   "outputs": [],
   "source": []
  }
 ],
 "metadata": {
  "anaconda-cloud": {},
  "kernelspec": {
   "display_name": "Python [default]",
   "language": "python",
   "name": "python3"
  },
  "language_info": {
   "codemirror_mode": {
    "name": "ipython",
    "version": 3
   },
   "file_extension": ".py",
   "mimetype": "text/x-python",
   "name": "python",
   "nbconvert_exporter": "python",
   "pygments_lexer": "ipython3",
   "version": "3.5.2"
  }
 },
 "nbformat": 4,
 "nbformat_minor": 2
}
