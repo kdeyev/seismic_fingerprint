{
 "cells": [
  {
   "cell_type": "markdown",
   "metadata": {},
   "source": [
    "TF"
   ]
  },
  {
   "cell_type": "markdown",
   "metadata": {
    "collapsed": true
   },
   "source": [
    "# model training"
   ]
  },
  {
   "cell_type": "code",
   "execution_count": null,
   "metadata": {
    "collapsed": false,
    "scrolled": false
   },
   "outputs": [],
   "source": [
    "import seismic_dataset_builder\n",
    "    \n",
    "#noisers = [None, seismic_handler.FreqNoiser()]\n",
    "noisers = [None,                                                # original gather\n",
    "           seismic_dataset_builder.BP(0.1, 0.15, 0.2, 0.25, 1), # BP1\n",
    "           seismic_dataset_builder.BP(0.2, 0.25, 0.3, 0.35, 1), # BP2\n",
    "           seismic_dataset_builder.BP(0.3, 0.35, 0.4, 0.45, 1), # BP3\n",
    "           seismic_dataset_builder.BP(0.4, 0.45, 0.5, 0.55, 1), # BP4\n",
    "          ]\n",
    "#noisers = [None, seismic_handler.BP(0.1, 0.15, 0.2, 0.25, 1)]\n",
    "\n",
    "(X_train, y_train), (X_test, y_test) = seismic_dataset_builder.create_seis_dataset ( file_name ='data/prestack.sgy', \n",
    "                                                                                     sorting_key = 'original_field_record_number', \n",
    "                                                                                     window = [50, 0.5], \n",
    "                                                                                     noisers = noisers,\n",
    "                                                                                     images_dir = None # dont create images\n",
    "                                                                                    )\n",
    "\n",
    "import seismic_ml_kernel\n",
    "#seismic_ml_kernel.mn (X_train[0], y_train, X_test[0], y_test)\n",
    "seismic_ml_kernel.ci_multi_train (X_train, y_train,)\n",
    "seismic_ml_kernel.ci_multi_test (X_train, y_train, X_test, y_test)"
   ]
  },
  {
   "cell_type": "markdown",
   "metadata": {},
   "source": [
    "# test dataset"
   ]
  },
  {
   "cell_type": "code",
   "execution_count": null,
   "metadata": {
    "collapsed": true
   },
   "outputs": [],
   "source": [
    "seismic_ml_kernel.ci_multi_test (classification_model, X_test, y_test)"
   ]
  },
  {
   "cell_type": "markdown",
   "metadata": {},
   "source": [
    "# prediction on single image"
   ]
  },
  {
   "cell_type": "code",
   "execution_count": 43,
   "metadata": {
    "collapsed": false
   },
   "outputs": [
    {
     "name": "stdout",
     "output_type": "stream",
     "text": [
      "correct category 3\n"
     ]
    },
    {
     "data": {
      "text/html": [
       "\n",
       "        <style  type=\"text/css\" >\n",
       "        \n",
       "        \n",
       "        </style>\n",
       "\n",
       "        <table id=\"T_ca861e2e_933b_11e7_ba8a_e4a7a07c26f7\" None>\n",
       "        \n",
       "\n",
       "        <thead>\n",
       "            \n",
       "            <tr>\n",
       "                \n",
       "                <th class=\"blank\">\n",
       "                \n",
       "                <th class=\"col_heading level0 col0\">0\n",
       "                \n",
       "                <th class=\"col_heading level0 col1\">1\n",
       "                \n",
       "                <th class=\"col_heading level0 col2\">2\n",
       "                \n",
       "                <th class=\"col_heading level0 col3\">3\n",
       "                \n",
       "                <th class=\"col_heading level0 col4\">4\n",
       "                \n",
       "            </tr>\n",
       "            \n",
       "        </thead>\n",
       "        <tbody>\n",
       "            \n",
       "            <tr>\n",
       "                \n",
       "                <th id=\"T_ca861e2e_933b_11e7_ba8a_e4a7a07c26f7\" class=\"row_heading level4 row0\">\n",
       "                    0\n",
       "                \n",
       "                <td id=\"T_ca861e2e_933b_11e7_ba8a_e4a7a07c26f7row0_col0\" class=\"data row0 col0\">\n",
       "                    0.185415\n",
       "                \n",
       "                <td id=\"T_ca861e2e_933b_11e7_ba8a_e4a7a07c26f7row0_col1\" class=\"data row0 col1\">\n",
       "                    75.7201\n",
       "                \n",
       "                <td id=\"T_ca861e2e_933b_11e7_ba8a_e4a7a07c26f7row0_col2\" class=\"data row0 col2\">\n",
       "                    0.000212726\n",
       "                \n",
       "                <td id=\"T_ca861e2e_933b_11e7_ba8a_e4a7a07c26f7row0_col3\" class=\"data row0 col3\">\n",
       "                    24.0939\n",
       "                \n",
       "                <td id=\"T_ca861e2e_933b_11e7_ba8a_e4a7a07c26f7row0_col4\" class=\"data row0 col4\">\n",
       "                    0.000435436\n",
       "                \n",
       "            </tr>\n",
       "            \n",
       "        </tbody>\n",
       "        </table>\n",
       "        "
      ],
      "text/plain": [
       "<pandas.formats.style.Styler at 0x254a3a626a0>"
      ]
     },
     "execution_count": 43,
     "metadata": {},
     "output_type": "execute_result"
    }
   ],
   "source": [
    "def slice (X_test, y_test, num):\n",
    "    import numpy as np\n",
    "    single = []\n",
    "    for i in range(len(X_test)):\n",
    "        single.append(np.array([X_test[i][num]]))\n",
    "    return single, y_test[num]\n",
    "\n",
    "\n",
    "import pandas as pd\n",
    "sl, a = slice(X_test,y_test,90)\n",
    "answer = classification_model.predict(sl)\n",
    "print('correct category', a)\n",
    "pd.DataFrame(answer*100).style"
   ]
  },
  {
   "cell_type": "markdown",
   "metadata": {},
   "source": [
    "# vision model 1\n",
    "![title](outputs/vision_model0.png)"
   ]
  },
  {
   "cell_type": "markdown",
   "metadata": {},
   "source": [
    "# vision model 2\n",
    "![title](outputs/vision_model1.png)"
   ]
  },
  {
   "cell_type": "markdown",
   "metadata": {},
   "source": [
    "# vision model 3\n",
    "![title](outputs/vision_model2.png)"
   ]
  },
  {
   "cell_type": "markdown",
   "metadata": {},
   "source": [
    "# classification model\n",
    "![title](outputs/classification_model.png)"
   ]
  },
  {
   "cell_type": "code",
   "execution_count": 1,
   "metadata": {
    "collapsed": false
   },
   "outputs": [
    {
     "ename": "SyntaxError",
     "evalue": "invalid syntax (<ipython-input-1-70e8466a5ff2>, line 1)",
     "output_type": "error",
     "traceback": [
      "\u001b[1;36m  File \u001b[1;32m\"<ipython-input-1-70e8466a5ff2>\"\u001b[1;36m, line \u001b[1;32m1\u001b[0m\n\u001b[1;33m    python -m tensorflow.tensorboard --logdir=outputs/Graph\u001b[0m\n\u001b[1;37m                       ^\u001b[0m\n\u001b[1;31mSyntaxError\u001b[0m\u001b[1;31m:\u001b[0m invalid syntax\n"
     ]
    }
   ],
   "source": [
    "python -m tensorflow.tensorboard --logdir=outputs/Graph"
   ]
  },
  {
   "cell_type": "code",
   "execution_count": null,
   "metadata": {
    "collapsed": true
   },
   "outputs": [],
   "source": []
  }
 ],
 "metadata": {
  "anaconda-cloud": {},
  "kernelspec": {
   "display_name": "Python [default]",
   "language": "python",
   "name": "python3"
  },
  "language_info": {
   "codemirror_mode": {
    "name": "ipython",
    "version": 3
   },
   "file_extension": ".py",
   "mimetype": "text/x-python",
   "name": "python",
   "nbconvert_exporter": "python",
   "pygments_lexer": "ipython3",
   "version": "3.5.2"
  }
 },
 "nbformat": 4,
 "nbformat_minor": 2
}
