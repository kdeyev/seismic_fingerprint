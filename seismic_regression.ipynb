{
 "cells": [
  {
   "cell_type": "markdown",
   "metadata": {
    "collapsed": true
   },
   "source": [
    "# build dataset"
   ]
  },
  {
   "cell_type": "code",
   "execution_count": 1,
   "metadata": {
    "collapsed": false,
    "scrolled": false
   },
   "outputs": [],
   "source": [
    "import seismic_dataset_builder  \n",
    "(X_train, y_train, v_train), (X_test, y_test, v_test), values, labels = seismic_dataset_builder.create_bp_synth()"
   ]
  },
  {
   "cell_type": "markdown",
   "metadata": {
    "collapsed": true
   },
   "source": [
    "# build and train regression CNN"
   ]
  },
  {
   "cell_type": "code",
   "execution_count": 2,
   "metadata": {
    "collapsed": false,
    "scrolled": true
   },
   "outputs": [
    {
     "name": "stderr",
     "output_type": "stream",
     "text": [
      "Using TensorFlow backend.\n"
     ]
    },
    {
     "name": "stdout",
     "output_type": "stream",
     "text": [
      "image has 4600 pixels\n"
     ]
    },
    {
     "name": "stderr",
     "output_type": "stream",
     "text": [
      "C:\\Users\\kostyad\\Documents\\Jupyter\\seismic_fingerprint\\seismic_ml_kernel.py:150: UserWarning: Update your `Model` call to the Keras 2 API: `Model(inputs=Tensor(\"in..., outputs=Tensor(\"fl...)`\n",
      "  vision_model = Model(input=inp, output=flat) # To define a model, just specify its input and output layers\n"
     ]
    },
    {
     "name": "stdout",
     "output_type": "stream",
     "text": [
      "image has 2300 pixels\n",
      "image has 2350 pixels\n",
      "number of vision models 3\n",
      "Vision models are ready\n",
      "Regression model is ready\n",
      "Regression model compiled\n",
      "Train on 12364 samples, validate on 1374 samples\n",
      "Epoch 1/5\n",
      "12364/12364 [==============================] - 881s - loss: 0.1592 - acc: 0.2612 - val_loss: 0.1676 - val_acc: 0.2409\n",
      "Epoch 2/5\n",
      "12364/12364 [==============================] - 932s - loss: 0.1249 - acc: 0.3293 - val_loss: 0.0624 - val_acc: 0.4389\n",
      "Epoch 3/5\n",
      "12364/12364 [==============================] - 940s - loss: 0.0830 - acc: 0.4110 - val_loss: 0.0395 - val_acc: 0.4549\n",
      "Epoch 4/5\n",
      "12364/12364 [==============================] - 936s - loss: 0.0725 - acc: 0.4253 - val_loss: 0.0345 - val_acc: 0.4578\n",
      "Epoch 5/5\n",
      "12364/12364 [==============================] - 935s - loss: 0.0667 - acc: 0.4359 - val_loss: 0.0282 - val_acc: 0.4658\n"
     ]
    }
   ],
   "source": [
    "import seismic_ml_kernel\n",
    "regression_model, v_scaler = seismic_ml_kernel.ci_multi_train_regression (X_train, v_train, 5)"
   ]
  },
  {
   "cell_type": "markdown",
   "metadata": {
    "collapsed": true
   },
   "source": [
    "# test regression dataset"
   ]
  },
  {
   "cell_type": "code",
   "execution_count": 3,
   "metadata": {
    "collapsed": false,
    "scrolled": true
   },
   "outputs": [
    {
     "name": "stdout",
     "output_type": "stream",
     "text": [
      "V_test [[ 0.]\n",
      " [ 0.]\n",
      " [ 0.]\n",
      " ..., \n",
      " [ 1.]\n",
      " [ 1.]\n",
      " [ 1.]]\n",
      "3422/3422 [==============================] - 82s    \n",
      "pred [[ 0.08047372]\n",
      " [ 0.35333276]\n",
      " [ 0.17249751]\n",
      " ..., \n",
      " [ 0.94368392]\n",
      " [ 0.87170905]\n",
      " [ 0.88284034]]\n",
      "3422/3422 [==============================] - 91s    \n",
      "[0.047981182520437281, 0.46639392170064425]\n"
     ]
    }
   ],
   "source": [
    "seismic_ml_kernel.ci_multi_test_regression (regression_model, v_scaler, X_test, v_test)"
   ]
  },
  {
   "cell_type": "markdown",
   "metadata": {
    "collapsed": true
   },
   "source": [
    "# regression on single image"
   ]
  },
  {
   "cell_type": "code",
   "execution_count": 6,
   "metadata": {
    "collapsed": false
   },
   "outputs": [
    {
     "name": "stdout",
     "output_type": "stream",
     "text": [
      "sample: 280\n",
      "sample label: BP 0.1, 0.15, 0.2, 0.25\n",
      "correct: 20 predicted: [ 20.9263134]\n"
     ]
    },
    {
     "data": {
      "image/png": "[encoded data removed]",
      "text/plain": [
       "<matplotlib.figure.Figure at 0x2229338ee10>"
      ]
     },
     "metadata": {},
     "output_type": "display_data"
    }
   ],
   "source": [
    "import matplotlib.pyplot as plt\n",
    "%matplotlib inline\n",
    "    \n",
    "randidx, predicted_y = seismic_ml_kernel.ci_multi_evaluate_random_regression (regression_model, v_scaler, X_test)\n",
    "\n",
    "print('sample:', randidx)\n",
    "print('sample label:', labels[y_test[randidx]])\n",
    "print('correct:', v_test[randidx], 'predicted:', predicted_y)"
   ]
  },
  {
   "cell_type": "markdown",
   "metadata": {},
   "source": [
    "# vision model 1\n",
    "![title](outputs/vision_model0.png)"
   ]
  },
  {
   "cell_type": "markdown",
   "metadata": {},
   "source": [
    "# vision model 2\n",
    "![title](outputs/vision_model1.png)"
   ]
  },
  {
   "cell_type": "markdown",
   "metadata": {},
   "source": [
    "# vision model 3\n",
    "![title](outputs/vision_model2.png)"
   ]
  },
  {
   "cell_type": "markdown",
   "metadata": {},
   "source": [
    "# regression model\n",
    "![title](outputs/regression_model.png)"
   ]
  },
  {
   "cell_type": "code",
   "execution_count": null,
   "metadata": {
    "collapsed": true
   },
   "outputs": [],
   "source": []
  }
 ],
 "metadata": {
  "anaconda-cloud": {},
  "kernelspec": {
   "display_name": "Python [default]",
   "language": "python",
   "name": "python3"
  },
  "language_info": {
   "codemirror_mode": {
    "name": "ipython",
    "version": 3
   },
   "file_extension": ".py",
   "mimetype": "text/x-python",
   "name": "python",
   "nbconvert_exporter": "python",
   "pygments_lexer": "ipython3",
   "version": "3.5.2"
  }
 },
 "nbformat": 4,
 "nbformat_minor": 2
}
