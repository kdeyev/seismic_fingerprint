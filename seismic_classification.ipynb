{
 "cells": [
  {
   "cell_type": "markdown",
   "metadata": {
    "collapsed": true
   },
   "source": [
    "# build dataset"
   ]
  },
  {
   "cell_type": "code",
   "execution_count": 1,
   "metadata": {
    "collapsed": false,
    "scrolled": false
   },
   "outputs": [],
   "source": [
    "import seismic_dataset_builder  \n",
    "(X_train, y_train, v_train), (X_test, y_test, v_test), values, labels = seismic_dataset_builder.create_bp_synth()"
   ]
  },
  {
   "cell_type": "markdown",
   "metadata": {},
   "source": [
    "# build and train calssification CNN"
   ]
  },
  {
   "cell_type": "code",
   "execution_count": 3,
   "metadata": {
    "collapsed": false,
    "scrolled": false
   },
   "outputs": [
    {
     "name": "stdout",
     "output_type": "stream",
     "text": [
      "image has 4600 pixels\n"
     ]
    },
    {
     "name": "stderr",
     "output_type": "stream",
     "text": [
      "C:\\Users\\kostyad\\Documents\\Jupyter\\seismic_fingerprint\\seismic_ml_kernel.py:150: UserWarning: Update your `Model` call to the Keras 2 API: `Model(outputs=Tensor(\"fl..., inputs=Tensor(\"in...)`\n",
      "  vision_model = Model(input=inp, output=flat) # To define a model, just specify its input and output layers\n"
     ]
    },
    {
     "name": "stdout",
     "output_type": "stream",
     "text": [
      "image has 2300 pixels\n",
      "image has 2350 pixels\n",
      "number of vision models 3\n",
      "Vision models are ready\n",
      "Classification model is ready\n",
      "Classification model compiled\n",
      "Train on 12364 samples, validate on 1374 samples\n",
      "Epoch 1/30\n",
      "12364/12364 [==============================] - 897s - loss: 1.2151 - acc: 0.4254 - val_loss: 0.4937 - val_acc: 0.8654\n",
      "Epoch 2/30\n",
      "12364/12364 [==============================] - 878s - loss: 0.6099 - acc: 0.7777 - val_loss: 0.2948 - val_acc: 0.9258\n",
      "Epoch 3/30\n",
      "12364/12364 [==============================] - 900s - loss: 0.4940 - acc: 0.8238 - val_loss: 0.1928 - val_acc: 0.9461\n",
      "Epoch 4/30\n",
      "12364/12364 [==============================] - 861s - loss: 0.4338 - acc: 0.8434 - val_loss: 0.1979 - val_acc: 0.9534\n",
      "Epoch 5/30\n",
      "12364/12364 [==============================] - 866s - loss: 0.3983 - acc: 0.8564 - val_loss: 0.1861 - val_acc: 0.9483\n",
      "Epoch 6/30\n",
      "12364/12364 [==============================] - 870s - loss: 0.3606 - acc: 0.8706 - val_loss: 0.1423 - val_acc: 0.9512\n",
      "Epoch 7/30\n",
      "12364/12364 [==============================] - 874s - loss: 0.3421 - acc: 0.8752 - val_loss: 0.1623 - val_acc: 0.9556\n",
      "Epoch 8/30\n",
      "12364/12364 [==============================] - 877s - loss: 0.3220 - acc: 0.8826 - val_loss: 0.1848 - val_acc: 0.9389\n",
      "Epoch 9/30\n",
      "12364/12364 [==============================] - 876s - loss: 0.2984 - acc: 0.8915 - val_loss: 0.1460 - val_acc: 0.9520\n",
      "Epoch 10/30\n",
      "12364/12364 [==============================] - 878s - loss: 0.2821 - acc: 0.8980 - val_loss: 0.1206 - val_acc: 0.9636\n",
      "Epoch 11/30\n",
      "12364/12364 [==============================] - 864s - loss: 0.2659 - acc: 0.9066 - val_loss: 0.1441 - val_acc: 0.9556\n",
      "Epoch 12/30\n",
      "12364/12364 [==============================] - 870s - loss: 0.2469 - acc: 0.9103 - val_loss: 0.1262 - val_acc: 0.9600\n",
      "Epoch 13/30\n",
      "12364/12364 [==============================] - 862s - loss: 0.2478 - acc: 0.9076 - val_loss: 0.1151 - val_acc: 0.9643\n",
      "Epoch 14/30\n",
      "12364/12364 [==============================] - 881s - loss: 0.2317 - acc: 0.9151 - val_loss: 0.1053 - val_acc: 0.9694\n",
      "Epoch 15/30\n",
      "12364/12364 [==============================] - 879s - loss: 0.2165 - acc: 0.9244 - val_loss: 0.1075 - val_acc: 0.9738\n",
      "Epoch 16/30\n",
      "12364/12364 [==============================] - 881s - loss: 0.2272 - acc: 0.9176 - val_loss: 0.1087 - val_acc: 0.9672\n",
      "Epoch 17/30\n",
      "12364/12364 [==============================] - 873s - loss: 0.2028 - acc: 0.9266 - val_loss: 0.1475 - val_acc: 0.9476\n",
      "Epoch 18/30\n",
      "12364/12364 [==============================] - 868s - loss: 0.2041 - acc: 0.9232 - val_loss: 0.1093 - val_acc: 0.9694\n",
      "Epoch 19/30\n",
      "12364/12364 [==============================] - 878s - loss: 0.1952 - acc: 0.9286 - val_loss: 0.1048 - val_acc: 0.9709\n",
      "Epoch 20/30\n",
      "12364/12364 [==============================] - 878s - loss: 0.1875 - acc: 0.9329 - val_loss: 0.1036 - val_acc: 0.9702\n",
      "Epoch 21/30\n",
      "12364/12364 [==============================] - 881s - loss: 0.1749 - acc: 0.9369 - val_loss: 0.1438 - val_acc: 0.9592\n",
      "Epoch 22/30\n",
      "12364/12364 [==============================] - 3551s - loss: 0.1767 - acc: 0.9343 - val_loss: 0.1151 - val_acc: 0.9607\n",
      "Epoch 23/30\n",
      "12364/12364 [==============================] - 911s - loss: 0.1726 - acc: 0.9366 - val_loss: 0.1529 - val_acc: 0.9585\n",
      "Epoch 24/30\n",
      "12364/12364 [==============================] - 921s - loss: 0.1668 - acc: 0.9392 - val_loss: 0.1183 - val_acc: 0.9622\n",
      "Epoch 25/30\n",
      "12364/12364 [==============================] - 2232s - loss: 0.1728 - acc: 0.9379 - val_loss: 0.1017 - val_acc: 0.9694\n",
      "Epoch 26/30\n",
      "12364/12364 [==============================] - 915s - loss: 0.1530 - acc: 0.9446 - val_loss: 0.1436 - val_acc: 0.9600\n",
      "Epoch 27/30\n",
      "12364/12364 [==============================] - 905s - loss: 0.1444 - acc: 0.9510 - val_loss: 0.1388 - val_acc: 0.9636\n",
      "Epoch 28/30\n",
      "12364/12364 [==============================] - 978s - loss: 0.1501 - acc: 0.9457 - val_loss: 0.1361 - val_acc: 0.9622\n",
      "Epoch 29/30\n",
      "12364/12364 [==============================] - 934s - loss: 0.1502 - acc: 0.9459 - val_loss: 0.1224 - val_acc: 0.9629\n",
      "Epoch 30/30\n",
      "12364/12364 [==============================] - 3233s - loss: 0.1365 - acc: 0.9501 - val_loss: 0.1283 - val_acc: 0.9651\n"
     ]
    }
   ],
   "source": [
    "import seismic_ml_kernel\n",
    "classification_model = seismic_ml_kernel.ci_multi_train_classification (X_train, y_train, 30)"
   ]
  },
  {
   "cell_type": "markdown",
   "metadata": {},
   "source": [
    "# test classification dataset"
   ]
  },
  {
   "cell_type": "code",
   "execution_count": 4,
   "metadata": {
    "collapsed": false
   },
   "outputs": [
    {
     "name": "stdout",
     "output_type": "stream",
     "text": [
      "3422/3422 [==============================] - 71s    \n",
      "[0.18225413647086769, 0.93687901815289576]\n"
     ]
    }
   ],
   "source": [
    "seismic_ml_kernel.ci_multi_test_classification (classification_model, X_test, y_test)"
   ]
  },
  {
   "cell_type": "markdown",
   "metadata": {},
   "source": [
    "# classification on single image"
   ]
  },
  {
   "cell_type": "code",
   "execution_count": 9,
   "metadata": {
    "collapsed": false,
    "scrolled": true
   },
   "outputs": [
    {
     "name": "stdout",
     "output_type": "stream",
     "text": [
      "sample: 1671\n",
      "sample label: BP 0.4, 0.45, 0.5, 0.55\n",
      "predicted label: BP 0.4, 0.45, 0.5, 0.55\n",
      "sample category: 3\n",
      "predicted category: 3\n",
      "prediction accuracy: 98.3986616135 %\n"
     ]
    },
    {
     "data": {
      "text/html": [
       "\n",
       "        <style  type=\"text/css\" >\n",
       "        \n",
       "        \n",
       "            #T_3df54114_99bd_11e7_a823_e4a7a07c26f7row3_col0 {\n",
       "            \n",
       "                background-color:  green;\n",
       "            \n",
       "            }\n",
       "        \n",
       "        </style>\n",
       "\n",
       "        <table id=\"T_3df54114_99bd_11e7_a823_e4a7a07c26f7\" None>\n",
       "        \n",
       "\n",
       "        <thead>\n",
       "            \n",
       "            <tr>\n",
       "                \n",
       "                <th class=\"blank\">\n",
       "                \n",
       "                <th class=\"col_heading level0 col0\">0\n",
       "                \n",
       "            </tr>\n",
       "            \n",
       "        </thead>\n",
       "        <tbody>\n",
       "            \n",
       "            <tr>\n",
       "                \n",
       "                <th id=\"T_3df54114_99bd_11e7_a823_e4a7a07c26f7\" class=\"row_heading level0 row0\">\n",
       "                    0\n",
       "                \n",
       "                <td id=\"T_3df54114_99bd_11e7_a823_e4a7a07c26f7row0_col0\" class=\"data row0 col0\">\n",
       "                    1.60115\n",
       "                \n",
       "            </tr>\n",
       "            \n",
       "            <tr>\n",
       "                \n",
       "                <th id=\"T_3df54114_99bd_11e7_a823_e4a7a07c26f7\" class=\"row_heading level0 row1\">\n",
       "                    1\n",
       "                \n",
       "                <td id=\"T_3df54114_99bd_11e7_a823_e4a7a07c26f7row1_col0\" class=\"data row1 col0\">\n",
       "                    0.000123704\n",
       "                \n",
       "            </tr>\n",
       "            \n",
       "            <tr>\n",
       "                \n",
       "                <th id=\"T_3df54114_99bd_11e7_a823_e4a7a07c26f7\" class=\"row_heading level0 row2\">\n",
       "                    2\n",
       "                \n",
       "                <td id=\"T_3df54114_99bd_11e7_a823_e4a7a07c26f7row2_col0\" class=\"data row2 col0\">\n",
       "                    6.0013e-05\n",
       "                \n",
       "            </tr>\n",
       "            \n",
       "            <tr>\n",
       "                \n",
       "                <th id=\"T_3df54114_99bd_11e7_a823_e4a7a07c26f7\" class=\"row_heading level0 row3\">\n",
       "                    3\n",
       "                \n",
       "                <td id=\"T_3df54114_99bd_11e7_a823_e4a7a07c26f7row3_col0\" class=\"data row3 col0\">\n",
       "                    98.3987\n",
       "                \n",
       "            </tr>\n",
       "            \n",
       "        </tbody>\n",
       "        </table>\n",
       "        "
      ],
      "text/plain": [
       "<pandas.formats.style.Styler at 0x23c87da8a20>"
      ]
     },
     "execution_count": 9,
     "metadata": {},
     "output_type": "execute_result"
    },
    {
     "data": {
      "image/png": "[encoded data removed]",
      "text/plain": [
       "<matplotlib.figure.Figure at 0x23c87c22898>"
      ]
     },
     "metadata": {},
     "output_type": "display_data"
    }
   ],
   "source": [
    "import matplotlib.pyplot as plt\n",
    "%matplotlib inline\n",
    "    \n",
    "randidx, predicted_y = seismic_ml_kernel.ci_multi_evaluate_random_classification (classification_model, X_test)\n",
    "\n",
    "correct_y = y_test[randidx]\n",
    "color = 'green'\n",
    "predicted_cat = predicted_y.argmax() \n",
    "if predicted_cat != correct_y:\n",
    "    color = 'red'\n",
    "\n",
    "import pandas as pd\n",
    "table = pd.DataFrame(predicted_y*100).style.apply(seismic_ml_kernel.highlight_max, color=color, axis=None)\n",
    "\n",
    "\n",
    "print('sample:', randidx)\n",
    "print('sample label:', labels[y_test[randidx]])\n",
    "print('predicted label:', labels[predicted_cat])\n",
    "print('sample category:', y_test[randidx])\n",
    "print('predicted category:', predicted_cat)\n",
    "print('prediction accuracy:', predicted_y[predicted_cat]*100, '%')\n",
    "table"
   ]
  },
  {
   "cell_type": "markdown",
   "metadata": {},
   "source": [
    "# vision model 1\n",
    "![title](outputs/classification_vision_model0.png)"
   ]
  },
  {
   "cell_type": "markdown",
   "metadata": {},
   "source": [
    "# vision model 2\n",
    "![title](outputs/classification_vision_model1.png)"
   ]
  },
  {
   "cell_type": "markdown",
   "metadata": {},
   "source": [
    "# vision model 3\n",
    "![title](outputs/classification_vision_model2.png)"
   ]
  },
  {
   "cell_type": "markdown",
   "metadata": {},
   "source": [
    "# classification model\n",
    "![title](outputs/classification_model.png)"
   ]
  },
  {
   "cell_type": "code",
   "execution_count": null,
   "metadata": {
    "collapsed": true
   },
   "outputs": [],
   "source": []
  }
 ],
 "metadata": {
  "anaconda-cloud": {},
  "kernelspec": {
   "display_name": "Python [default]",
   "language": "python",
   "name": "python3"
  },
  "language_info": {
   "codemirror_mode": {
    "name": "ipython",
    "version": 3
   },
   "file_extension": ".py",
   "mimetype": "text/x-python",
   "name": "python",
   "nbconvert_exporter": "python",
   "pygments_lexer": "ipython3",
   "version": "3.5.2"
  }
 },
 "nbformat": 4,
 "nbformat_minor": 2
}
