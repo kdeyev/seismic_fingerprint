{
 "cells": [
  {
   "cell_type": "markdown",
   "metadata": {
    "collapsed": true
   },
   "source": [
    "# build dataset"
   ]
  },
  {
   "cell_type": "code",
   "execution_count": 3,
   "metadata": {
    "collapsed": false,
    "scrolled": false
   },
   "outputs": [],
   "source": [
    "import seismic_dataset_builder  \n",
    "(X_train, y_train, v_train), (X_test, y_test, v_test), values, labels = seismic_dataset_builder.create_bp_synth()"
   ]
  },
  {
   "cell_type": "markdown",
   "metadata": {},
   "source": [
    "# build and train calssification CNN"
   ]
  },
  {
   "cell_type": "code",
   "execution_count": null,
   "metadata": {
    "collapsed": false,
    "scrolled": false
   },
   "outputs": [
    {
     "name": "stdout",
     "output_type": "stream",
     "text": [
      "image has 4600 pixels\n"
     ]
    },
    {
     "name": "stderr",
     "output_type": "stream",
     "text": [
      "C:\\Users\\kostyad\\Documents\\Jupyter\\seismic_fingerprint\\seismic_ml_kernel.py:150: UserWarning: Update your `Model` call to the Keras 2 API: `Model(outputs=Tensor(\"fl..., inputs=Tensor(\"in...)`\n",
      "  vision_model = Model(input=inp, output=flat) # To define a model, just specify its input and output layers\n"
     ]
    },
    {
     "name": "stdout",
     "output_type": "stream",
     "text": [
      "image has 2300 pixels\n",
      "image has 2350 pixels\n",
      "number of vision models 3\n",
      "Vision models are ready\n",
      "Classification model is ready\n",
      "Classification model compiled\n",
      "Train on 12364 samples, validate on 1374 samples\n"
     ]
    }
   ],
   "source": [
    "import seismic_ml_kernel\n",
    "classification_model = seismic_ml_kernel.ci_multi_train_classification (X_train, y_train, 30)"
   ]
  },
  {
   "cell_type": "markdown",
   "metadata": {},
   "source": [
    "# test classification dataset"
   ]
  },
  {
   "cell_type": "code",
   "execution_count": 8,
   "metadata": {
    "collapsed": false
   },
   "outputs": [
    {
     "name": "stdout",
     "output_type": "stream",
     "text": [
      "3422/3422 [==============================] - 112s   \n",
      "[0.50053574065588013, 0.87288135568835035]\n"
     ]
    }
   ],
   "source": [
    "seismic_ml_kernel.ci_multi_test_classification (classification_model, X_test, y_test)"
   ]
  },
  {
   "cell_type": "markdown",
   "metadata": {},
   "source": [
    "# classification on single image"
   ]
  },
  {
   "cell_type": "code",
   "execution_count": 15,
   "metadata": {
    "collapsed": false,
    "scrolled": true
   },
   "outputs": [
    {
     "name": "stdout",
     "output_type": "stream",
     "text": [
      "sample: 2759\n",
      "sample label: BP 0.4, 0.45, 0.5, 0.55\n",
      "predicted label: BP 0.4, 0.45, 0.5, 0.55\n",
      "sample category: 3\n",
      "predicted category: 3\n",
      "prediction accuracy: 100.0 %\n"
     ]
    },
    {
     "data": {
      "text/html": [
       "\n",
       "        <style  type=\"text/css\" >\n",
       "        \n",
       "        \n",
       "            #T_49aa0826_98b3_11e7_8989_e4a7a07c26f7row3_col0 {\n",
       "            \n",
       "                background-color:  green;\n",
       "            \n",
       "            }\n",
       "        \n",
       "        </style>\n",
       "\n",
       "        <table id=\"T_49aa0826_98b3_11e7_8989_e4a7a07c26f7\" None>\n",
       "        \n",
       "\n",
       "        <thead>\n",
       "            \n",
       "            <tr>\n",
       "                \n",
       "                <th class=\"blank\">\n",
       "                \n",
       "                <th class=\"col_heading level0 col0\">0\n",
       "                \n",
       "            </tr>\n",
       "            \n",
       "        </thead>\n",
       "        <tbody>\n",
       "            \n",
       "            <tr>\n",
       "                \n",
       "                <th id=\"T_49aa0826_98b3_11e7_8989_e4a7a07c26f7\" class=\"row_heading level0 row0\">\n",
       "                    0\n",
       "                \n",
       "                <td id=\"T_49aa0826_98b3_11e7_8989_e4a7a07c26f7row0_col0\" class=\"data row0 col0\">\n",
       "                    0\n",
       "                \n",
       "            </tr>\n",
       "            \n",
       "            <tr>\n",
       "                \n",
       "                <th id=\"T_49aa0826_98b3_11e7_8989_e4a7a07c26f7\" class=\"row_heading level0 row1\">\n",
       "                    1\n",
       "                \n",
       "                <td id=\"T_49aa0826_98b3_11e7_8989_e4a7a07c26f7row1_col0\" class=\"data row1 col0\">\n",
       "                    0\n",
       "                \n",
       "            </tr>\n",
       "            \n",
       "            <tr>\n",
       "                \n",
       "                <th id=\"T_49aa0826_98b3_11e7_8989_e4a7a07c26f7\" class=\"row_heading level0 row2\">\n",
       "                    2\n",
       "                \n",
       "                <td id=\"T_49aa0826_98b3_11e7_8989_e4a7a07c26f7row2_col0\" class=\"data row2 col0\">\n",
       "                    0\n",
       "                \n",
       "            </tr>\n",
       "            \n",
       "            <tr>\n",
       "                \n",
       "                <th id=\"T_49aa0826_98b3_11e7_8989_e4a7a07c26f7\" class=\"row_heading level0 row3\">\n",
       "                    3\n",
       "                \n",
       "                <td id=\"T_49aa0826_98b3_11e7_8989_e4a7a07c26f7row3_col0\" class=\"data row3 col0\">\n",
       "                    100\n",
       "                \n",
       "            </tr>\n",
       "            \n",
       "        </tbody>\n",
       "        </table>\n",
       "        "
      ],
      "text/plain": [
       "<pandas.formats.style.Styler at 0x2033584f5f8>"
      ]
     },
     "execution_count": 15,
     "metadata": {},
     "output_type": "execute_result"
    },
    {
     "data": {
      "image/png": "[encoded data removed]",
      "text/plain": [
       "<matplotlib.figure.Figure at 0x20335bf1ac8>"
      ]
     },
     "metadata": {},
     "output_type": "display_data"
    }
   ],
   "source": [
    "import matplotlib.pyplot as plt\n",
    "%matplotlib inline\n",
    "    \n",
    "randidx, predicted_y = seismic_ml_kernel.ci_multi_evaluate_random_classification (classification_model, X_test)\n",
    "\n",
    "correct_y = y_test[randidx]\n",
    "color = 'green'\n",
    "predicted_cat = predicted_y.argmax() \n",
    "if predicted_cat != correct_y:\n",
    "    color = 'red'\n",
    "\n",
    "import pandas as pd\n",
    "table = pd.DataFrame(predicted_y*100).style.apply(seismic_ml_kernel.highlight_max, color=color, axis=None)\n",
    "\n",
    "\n",
    "print('sample:', randidx)\n",
    "print('sample label:', labels[y_test[randidx]])\n",
    "print('predicted label:', labels[predicted_cat])\n",
    "print('sample category:', y_test[randidx])\n",
    "print('predicted category:', predicted_cat)\n",
    "print('prediction accuracy:', predicted_y[predicted_cat]*100, '%')\n",
    "table"
   ]
  },
  {
   "cell_type": "markdown",
   "metadata": {},
   "source": [
    "# vision model 1\n",
    "![title](outputs/classification_vision_model0.png)"
   ]
  },
  {
   "cell_type": "markdown",
   "metadata": {},
   "source": [
    "# vision model 2\n",
    "![title](outputs/classification_vision_model1.png)"
   ]
  },
  {
   "cell_type": "markdown",
   "metadata": {},
   "source": [
    "# vision model 3\n",
    "![title](outputs/classification_vision_model2.png)"
   ]
  },
  {
   "cell_type": "markdown",
   "metadata": {},
   "source": [
    "# classification model\n",
    "![title](outputs/classification_model.png)"
   ]
  },
  {
   "cell_type": "code",
   "execution_count": null,
   "metadata": {
    "collapsed": true
   },
   "outputs": [],
   "source": []
  }
 ],
 "metadata": {
  "anaconda-cloud": {},
  "kernelspec": {
   "display_name": "Python [default]",
   "language": "python",
   "name": "python3"
  },
  "language_info": {
   "codemirror_mode": {
    "name": "ipython",
    "version": 3
   },
   "file_extension": ".py",
   "mimetype": "text/x-python",
   "name": "python",
   "nbconvert_exporter": "python",
   "pygments_lexer": "ipython3",
   "version": "3.5.2"
  }
 },
 "nbformat": 4,
 "nbformat_minor": 2
}
